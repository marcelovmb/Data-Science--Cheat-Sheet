{
  "nbformat": 4,
  "nbformat_minor": 0,
  "metadata": {
    "colab": {
      "name": "UFRN-diversidade",
      "provenance": [],
      "include_colab_link": true
    },
    "kernelspec": {
      "display_name": "Python 3",
      "language": "python",
      "name": "python3"
    },
    "language_info": {
      "codemirror_mode": {
        "name": "ipython",
        "version": 3
      },
      "file_extension": ".py",
      "mimetype": "text/x-python",
      "name": "python",
      "nbconvert_exporter": "python",
      "pygments_lexer": "ipython3",
      "version": "3.6.8"
    }
  },
  "cells": [
    {
      "cell_type": "markdown",
      "metadata": {
        "id": "view-in-github",
        "colab_type": "text"
      },
      "source": [
        "<a href=\"https://colab.research.google.com/github/marcelovmb/Data-Science--Cheat-Sheet/blob/master/pt-br/notebooks/UFRN-diversidade.ipynb\" target=\"_parent\"><img src=\"https://colab.research.google.com/assets/colab-badge.svg\" alt=\"Open In Colab\"/></a>"
      ]
    },
    {
      "cell_type": "markdown",
      "metadata": {
        "id": "uVW1T7J8Er0-"
      },
      "source": [
        "# Concatenando múltiplas bases\n",
        "\n"
      ]
    },
    {
      "cell_type": "markdown",
      "metadata": {
        "id": "52SDZHnnmCWQ"
      },
      "source": [
        "Em algumas situações, a informação que se precisa está dividida em bases de dados com formato idêntico. \n",
        "\n",
        "Nesses casos, podemos **concatenar** essas bases. \n",
        "\n",
        "O exemplo a seguir investiga a diversidade nos cursos da UFRN.\n",
        "\n",
        "Nossa fonte de informação para este exemplo são os datasets sobre discentes ingressantes na UFRN, que estão organizados por ano de ingresso. "
      ]
    },
    {
      "cell_type": "markdown",
      "metadata": {
        "id": "SyeFxmErpOPL"
      },
      "source": [
        "## Coletando os dados"
      ]
    },
    {
      "cell_type": "markdown",
      "metadata": {
        "id": "0Vo16XAZpQzW"
      },
      "source": [
        "O primeiro passo quando temos bases de diferentes fontes é coletá-las da forma o mais automatizada possível.\n",
        "\n",
        "Neste exemplo, organizamos os links para os dados de discentes em um dicionário.\n",
        "\n",
        "No exemplo a seguir, cada chave é um ano e seu valor associado é o link para o dataset correspondente:"
      ]
    },
    {
      "cell_type": "code",
      "metadata": {
        "id": "4BjmHAdOtC8J"
      },
      "source": [
        "csv_discentes = {\n",
        "    2019: \"http://dados.ufrn.br/dataset/554c2d41-cfce-4278-93c6-eb9aa49c5d16/resource/a55aef81-e094-4267-8643-f283524e3dd7/download/discentes-2019.csv\",\n",
        "    2018: \"http://dados.ufrn.br/dataset/554c2d41-cfce-4278-93c6-eb9aa49c5d16/resource/146b749b-b9d0-49b2-b114-ac6cc82a4051/download/discentes-2018.csv\",\n",
        "    2017: \"http://dados.ufrn.br/dataset/554c2d41-cfce-4278-93c6-eb9aa49c5d16/resource/dc732572-a51a-4d4a-a39d-2db37cbe5382/download/discentes-2017.csv\",\n",
        "    2016: \"http://dados.ufrn.br/dataset/554c2d41-cfce-4278-93c6-eb9aa49c5d16/resource/7d2fa5b3-743f-465f-8450-91719b34a002/download/discentes-2016.csv\",\n",
        "    2015: \"http://dados.ufrn.br/dataset/554c2d41-cfce-4278-93c6-eb9aa49c5d16/resource/e2b5b843-4f58-497e-8979-44daf8df8f94/download/discentes-2015.csv\",\n",
        "    2014: \"http://dados.ufrn.br/dataset/554c2d41-cfce-4278-93c6-eb9aa49c5d16/resource/6c23a430-9a7c-4d0f-9602-1d5d97d40e6a/download/discentes-2014.csv\",\n",
        "}"
      ],
      "execution_count": null,
      "outputs": []
    },
    {
      "cell_type": "markdown",
      "metadata": {
        "id": "81Nyk25Sq1uz"
      },
      "source": [
        "Podemos consumir cada um desses datasets usando o método `pd.read_csv()`.\n",
        "\n",
        "O Python permite que esse método seja aplicado a todos os links em sequência usando **compreensão de listas**, com a notação:\n",
        "\n",
        "```python3\n",
        "pd.read_csv(dicionário[chave]) for chave in dicionário\n",
        "```\n",
        "\n",
        "Entendendo o código acima, pedimos que o Python aplique o método `pd.read_csv(dicionário[chave])` para cada chave presente no dicionário.\n",
        "\n",
        "A lista produzida contém um `DataFrame` para cada ano.\n",
        "\n",
        "O método `pd.concat()` combina todos esses dataframes em um só:"
      ]
    },
    {
      "cell_type": "code",
      "metadata": {
        "id": "j198UW5Dcm8M"
      },
      "source": [
        "import pandas as pd"
      ],
      "execution_count": null,
      "outputs": []
    },
    {
      "cell_type": "code",
      "metadata": {
        "id": "LA52lXFtECCQ"
      },
      "source": [
        "dados = pd.concat(pd.read_csv(csv_discentes[ano], sep=\";\") for ano in csv_discentes)\n",
        "dados"
      ],
      "execution_count": null,
      "outputs": []
    },
    {
      "cell_type": "markdown",
      "metadata": {
        "id": "n92X93kQP5ug"
      },
      "source": [
        "Agora que já unimos os datasets, vamos salvá-lo para não precisarmos refazer esse processo a cada vez.\n",
        "\n",
        "Uma das formas de **persistir** um `DataFrame` é usar o método `to_csv()` que salva os dados em um arquivo CSV:"
      ]
    },
    {
      "cell_type": "code",
      "metadata": {
        "id": "9lXgRFkaQYHG"
      },
      "source": [
        "from google.colab import drive\n",
        "drive.mount('/content/drive')"
      ],
      "execution_count": null,
      "outputs": []
    },
    {
      "cell_type": "code",
      "metadata": {
        "id": "OJpkfzPaPny0"
      },
      "source": [
        "dados.to_csv(\"/content/drive/My Drive/discentes-ufrn-2014-2019.csv\", index=False)"
      ],
      "execution_count": null,
      "outputs": []
    },
    {
      "cell_type": "markdown",
      "metadata": {
        "id": "s20VksOkEqnU"
      },
      "source": [
        "## Avaliando a diversidade no IMD"
      ]
    },
    {
      "cell_type": "markdown",
      "metadata": {
        "id": "_-L7W5-nc7_f"
      },
      "source": [
        "Começamos nossa análise pelos dados do IMD.\n",
        "\n",
        "Fazemos essa seleção filtrando pelo campo `nome_unidade`:"
      ]
    },
    {
      "cell_type": "code",
      "metadata": {
        "id": "J3OCZTPCEqH_"
      },
      "source": [
        "dados_imd = dados.query(\"nome_unidade == 'INSTITUTO METROPOLE DIGITAL'\")\n",
        "dados_imd.shape"
      ],
      "execution_count": null,
      "outputs": []
    },
    {
      "cell_type": "markdown",
      "metadata": {
        "id": "87H0RCt3fuoN"
      },
      "source": [
        "Uma operação bastante comum em bancos de dados é calcular estatísticas que exigem **agrupar** os dados.\n",
        "\n",
        "No Pandas, podemos fazer isso usando o método `groupby()` dos objetos do tipo `DataFrame`.\n",
        "\n",
        "O exemplo a seguir calcula a quantidade de observações por ano, isto é, a quantidade de ingressantes nos cursos do IMD entre 2014 e 2019.\n",
        "\n",
        "Antes, no entanto, precisamos verificar se há **dados faltando** nesta coluna:"
      ]
    },
    {
      "cell_type": "code",
      "metadata": {
        "id": "t0cIyasBrgvo"
      },
      "source": [
        "dados_imd.isnull().sum()"
      ],
      "execution_count": null,
      "outputs": []
    },
    {
      "cell_type": "markdown",
      "metadata": {
        "id": "khYucdNSgTHJ"
      },
      "source": [
        "Como não temos dados faltando, podemos prosseguir com a análise:"
      ]
    },
    {
      "cell_type": "code",
      "metadata": {
        "id": "EtdT6fd_FC0X"
      },
      "source": [
        "dados_imd.groupby(\"ano_ingresso\").size()"
      ],
      "execution_count": null,
      "outputs": []
    },
    {
      "cell_type": "markdown",
      "metadata": {
        "id": "CuDMsm_zhzF1"
      },
      "source": [
        "Também podemos fazer agrupamentos considerando múltiplas características dos dados:"
      ]
    },
    {
      "cell_type": "code",
      "metadata": {
        "id": "uhmavZ-3FvzH"
      },
      "source": [
        "dados_imd.groupby([\"nome_curso\",\"ano_ingresso\",\"sexo\"]).size()"
      ],
      "execution_count": null,
      "outputs": []
    },
    {
      "cell_type": "markdown",
      "metadata": {
        "id": "jTZTFJzulqPc"
      },
      "source": [
        "Para verificar existência de **dados inválidos**, precisaremos nos assegurar que fiquem no dataframe apenas observações que respeitem as possibilidades disponíveis para esta característica: "
      ]
    },
    {
      "cell_type": "code",
      "metadata": {
        "id": "z_1rgFFlGKrO"
      },
      "source": [
        "dados_imd = dados_imd.query(\"sexo in ['M','F']\")\n",
        "dados_imd.shape"
      ],
      "execution_count": null,
      "outputs": []
    },
    {
      "cell_type": "code",
      "metadata": {
        "id": "rq7fqNf0GcNl"
      },
      "source": [
        "dados_imd.groupby([\"nome_curso\",\"ano_ingresso\",\"sexo\"]).size()"
      ],
      "execution_count": null,
      "outputs": []
    },
    {
      "cell_type": "markdown",
      "metadata": {
        "id": "xLXRI1V_nMGR"
      },
      "source": [
        "Vamos restringir nossa análise ao Bacharelado em Tecnologia da Informação (BTI).\n",
        "\n",
        "Fazemos isso filtrando os dados pela característica `nome_curso`:"
      ]
    },
    {
      "cell_type": "code",
      "metadata": {
        "id": "jx3HxkKbGqxz"
      },
      "source": [
        "dados_bti = dados_imd.query(\"nome_curso == 'TECNOLOGIA DA INFORMAÇÃO'\")"
      ],
      "execution_count": null,
      "outputs": []
    },
    {
      "cell_type": "code",
      "metadata": {
        "id": "RCw5PQmgGnLz"
      },
      "source": [
        "agregado_bti = dados_bti.groupby([\"ano_ingresso\",\"sexo\"]).size()\n",
        "agregado_bti"
      ],
      "execution_count": null,
      "outputs": []
    },
    {
      "cell_type": "markdown",
      "metadata": {
        "id": "-hmlyfa-nVCK"
      },
      "source": [
        "Como a quantidade de ingressantes por ano varia, comparar anos diferentes só é possível em termos relativos.\n",
        "\n",
        "Para isso, o Pandas oferece o método `crosstab`, cuja opção `normalize` determina se a contagem de frequência será normalizada ou não e como. \n",
        "\n",
        "Neste caso, informamos que a normalização seja feita pela característica listada horizontalmente (índices):"
      ]
    },
    {
      "cell_type": "code",
      "metadata": {
        "id": "0S5pUIOVn2J6"
      },
      "source": [
        "percentual_bti = pd.crosstab(dados_bti[\"ano_ingresso\"], dados_bti[\"sexo\"], normalize=\"index\")\n",
        "percentual_bti"
      ],
      "execution_count": null,
      "outputs": []
    },
    {
      "cell_type": "markdown",
      "metadata": {
        "id": "R4XbS_QIrAKL"
      },
      "source": [
        "Note que agora a soma de cada valor possível para a característica `sexo` em um dado ano é igual a 1 (que representa 100% dos dados daquele ano).\n",
        "\n",
        "Não estamos muito bem em diversidade no BTI, hein? :(\n",
        "    \n",
        "Vamos gerar um gráfico de linhas para visualizar a evolução dessa (falta de) diversidade ao longo dos anos considerados.\n",
        "\n",
        "Para isso, além da `matplotlib`, vamos precisar da bibioteca `seaborn`.\n",
        "\n",
        "Por convenção, importamos a biblioteca `seaborn` como `sns` e usamos o método `set()` para ativar suas configurações padrão."
      ]
    },
    {
      "cell_type": "code",
      "metadata": {
        "id": "X0ng11mSOOQH"
      },
      "source": [
        "import matplotlib.pyplot as plt\n",
        "import seaborn as sns\n",
        "sns.set()"
      ],
      "execution_count": null,
      "outputs": []
    },
    {
      "cell_type": "markdown",
      "metadata": {
        "id": "W52h2sONro9B"
      },
      "source": [
        "Produzimos o gráfico de linha usando o método `lineplot`, onde devemos informar através do argumento `data` os dados que pretendemos plotar.\n",
        "\n",
        "Além disso, vamos associar um nome ao gráfico de linha para poder configurar o intervalo usado no eixo y através do método `set(ylim=(início, fim))`:"
      ]
    },
    {
      "cell_type": "code",
      "metadata": {
        "id": "ZNf7wVh1HbQP"
      },
      "source": [
        "percentual_bti_feminino = percentual_bti[\"F\"]\n",
        "plot_bti = sns.lineplot(data=percentual_bti_feminino)\n",
        "plot_bti.set(ylim=(0,1))\n",
        "plt.xlabel(\"Ano\")\n",
        "plt.ylabel(\"Percentual\")\n",
        "plt.title(\"Discentes do sexo feminino por ano de ingresso\")"
      ],
      "execution_count": null,
      "outputs": []
    },
    {
      "cell_type": "markdown",
      "metadata": {
        "id": "jw7B3yLkIYRP"
      },
      "source": [
        "## Avaliando os cursos associados ao BTI"
      ]
    },
    {
      "cell_type": "markdown",
      "metadata": {
        "id": "ismhki8Otjb4"
      },
      "source": [
        "O dado acima claramente é insatisfatório, mas precisamos analisá-lo em perspectiva.\n",
        "\n",
        "Vamos compará-lo inicialmente com cursos de segundo ciclo que se seguem ao BTI:"
      ]
    },
    {
      "cell_type": "code",
      "metadata": {
        "id": "cXuGFjLtIX0G"
      },
      "source": [
        "cursos_ti = [\"TECNOLOGIA DA INFORMAÇÃO\",\"ENGENHARIA DE SOFTWARE\",\"CIÊNCIA DA COMPUTAÇÃO\"]\n",
        "dados_ti = dados.query(f\"nome_curso in {cursos_ti}\")"
      ],
      "execution_count": null,
      "outputs": []
    },
    {
      "cell_type": "markdown",
      "metadata": {
        "id": "INxXJyxMt9OF"
      },
      "source": [
        "Para começar, vamos conferir se os valores presentes neste dataframe respeitam as possibilidades elencadas para a característica `sexo`:"
      ]
    },
    {
      "cell_type": "code",
      "metadata": {
        "id": "44gYYgsjmy7_"
      },
      "source": [
        "dados_ti.isnull().sum()"
      ],
      "execution_count": null,
      "outputs": []
    },
    {
      "cell_type": "code",
      "metadata": {
        "id": "0GJY2f1nIu1S"
      },
      "source": [
        "dados_ti.sexo.unique()"
      ],
      "execution_count": null,
      "outputs": []
    },
    {
      "cell_type": "markdown",
      "metadata": {
        "id": "WWVmJRNfuGqh"
      },
      "source": [
        "Agora podemos calcular os valores absolutos e relativos para cada um desses cursos:"
      ]
    },
    {
      "cell_type": "code",
      "metadata": {
        "id": "kdxcsd4dIyZM"
      },
      "source": [
        "agregado_ti = dados_ti.groupby(['nome_curso','ano_ingresso','sexo']).size()\n",
        "agregado_ti"
      ],
      "execution_count": null,
      "outputs": []
    },
    {
      "cell_type": "code",
      "metadata": {
        "id": "SxQo1ttVMoQJ"
      },
      "source": [
        "percentual_ti = pd.crosstab([dados_ti['nome_curso'], dados_ti['ano_ingresso']], dados_ti['sexo'], normalize=\"index\")\n",
        "percentual_ti"
      ],
      "execution_count": null,
      "outputs": []
    },
    {
      "cell_type": "markdown",
      "metadata": {
        "id": "IJKhJ01Mu44J"
      },
      "source": [
        "Note que para os cursos de ciência da computação e engenharia de software, não há dados para os anos de 2014 e 2015. \n",
        "\n",
        "Além disso, não houve ingresso de discentes do sexo feminino em ciência da computação no ano de 2019.\n",
        "\n",
        "Vamos então considerar os dados para o sexo masculino a partir de 2016:"
      ]
    },
    {
      "cell_type": "code",
      "metadata": {
        "id": "yd6TKc9rMQ6A"
      },
      "source": [
        "percentual_ti_masculino = percentual_ti.query(\"ano_ingresso >= 2016\")[\"M\"]\n",
        "percentual_ti_masculino"
      ],
      "execution_count": null,
      "outputs": []
    },
    {
      "cell_type": "markdown",
      "metadata": {
        "id": "GvXqBsa5wJo_"
      },
      "source": [
        "Uma série produzida a partir de um agrupamento de múltiplas características apresenta um índice hierárquico.\n",
        "\n",
        "O Pandas permite converter uma série assim em um dataframe usando o método `reset_index()`.\n",
        "\n",
        "Os nomes das colunas são reutilizados do índice hierárquico. A última coluna pode ser nomeada usando o argumento `name`):"
      ]
    },
    {
      "cell_type": "code",
      "metadata": {
        "id": "KC7RI3pvvgIA"
      },
      "source": [
        "dados_ti_masculino = percentual_ti_masculino.reset_index(name=\"total\")\n",
        "dados_ti_masculino"
      ],
      "execution_count": null,
      "outputs": []
    },
    {
      "cell_type": "markdown",
      "metadata": {
        "id": "qjnYskUFx8wk"
      },
      "source": [
        "Com os dados organizados, podemos agora calcular a média de participação masculina nos cursos associados ao BTI considerando o período 2016-2019:"
      ]
    },
    {
      "cell_type": "code",
      "metadata": {
        "id": "RmxJydOQ6z1C"
      },
      "source": [
        "dados_ti_masculino.groupby(\"nome_curso\").mean()"
      ],
      "execution_count": null,
      "outputs": []
    },
    {
      "cell_type": "markdown",
      "metadata": {
        "id": "1l7_6VXVyH3K"
      },
      "source": [
        "Note que também está sendo calculada a média da coluna `ano_ingresso`.\n",
        "\n",
        "Isso acontece porque, ao ler os datasets da UFRN, o Pandas entendeu que deveria configurar esta coluna como numérica.\n",
        "\n",
        "Se quisermos impedir isso, devemos solicitar ao Pandas que trate essa coluna como uma característica ordinal:"
      ]
    },
    {
      "cell_type": "code",
      "metadata": {
        "id": "NJBxvMreRd_k"
      },
      "source": [
        "dados_ti_masculino.ano_ingresso = dados_ti_masculino.ano_ingresso.astype(str)\n",
        "dados_ti_masculino.groupby(\"nome_curso\").mean()"
      ],
      "execution_count": null,
      "outputs": []
    },
    {
      "cell_type": "markdown",
      "metadata": {
        "id": "IZEI512Jy9To"
      },
      "source": [
        "Na média, os três cursos apresentam diversidade insatisfatória. No entanto, fica claro que os cursos de segundo ciclo apresentam uma situação menos crítica que o BTI.\n",
        "\n",
        "Vamos olhar a evolução deste fator nos três cursos usando o `lineplot()` mais uma vez.\n",
        "\n",
        "Neste exemplo, vamos configurar o tamanho do gráfico usando o método `plt.figure(figsize=(largura, altura))`."
      ]
    },
    {
      "cell_type": "code",
      "metadata": {
        "id": "4VTipaH0JW8-"
      },
      "source": [
        "plt.figure(figsize=(6, 6))\n",
        "plot_it = sns.lineplot(x=\"ano_ingresso\", y=\"total\", hue=\"nome_curso\", data=dados_ti_masculino)\n",
        "plot_it.set(ylim=(0,1))\n",
        "plt.xlabel(\"Ano\")\n",
        "plt.ylabel(\"Percentual\")\n",
        "plt.title(\"Discentes do sexo masculino por ano de ingresso\")"
      ],
      "execution_count": null,
      "outputs": []
    },
    {
      "cell_type": "markdown",
      "metadata": {
        "id": "j4C2-ltzE295"
      },
      "source": [
        "## Avaliando a diversidade na UFRN"
      ]
    },
    {
      "cell_type": "markdown",
      "metadata": {
        "id": "Z_h-PLrheJ8e"
      },
      "source": [
        "Como podemos ver, a diversidade nos cursos relacionados ao BTI não anda bem.\n",
        "\n",
        "Mas será que essa é a realidade mais geral da UFRN?\n",
        "\n",
        "Vamos expandir nossa análise para considerar todas as unidades acadêmicas da universidade.\n",
        "\n",
        "Novamente, começamos verificando a existência de dados faltando:"
      ]
    },
    {
      "cell_type": "code",
      "metadata": {
        "id": "Fy9WO6vBr6ug"
      },
      "source": [
        "dados.isnull().sum()"
      ],
      "execution_count": null,
      "outputs": []
    },
    {
      "cell_type": "markdown",
      "metadata": {
        "id": "gOLxYX-JeZtP"
      },
      "source": [
        "Quando identificamos a ausência de dados, podemos tentar preenchê-los ou descartar as observações afetadas.\n",
        "\n",
        "Pela elevada quantidade de dados faltando, tentar preencher esses dados se torna difícil.\n",
        "\n",
        "Assim, vamos optar por analisar apenas os casos em que o nome da unidade foi informada:"
      ]
    },
    {
      "cell_type": "code",
      "metadata": {
        "id": "tsvMzH5NTYrX"
      },
      "source": [
        "dados_não_nulos = dados[~dados[\"nome_unidade\"].isnull()]"
      ],
      "execution_count": null,
      "outputs": []
    },
    {
      "cell_type": "markdown",
      "metadata": {
        "id": "Hwfitslyfp0r"
      },
      "source": [
        "Outro recorte importante é limitar nossa análise a cursos de graduação:"
      ]
    },
    {
      "cell_type": "code",
      "metadata": {
        "id": "GgCWR3dbTVMr"
      },
      "source": [
        "dados_graduação = dados_não_nulos.query(\"nivel_ensino == 'GRADUAÇÃO'\")"
      ],
      "execution_count": null,
      "outputs": []
    },
    {
      "cell_type": "markdown",
      "metadata": {
        "id": "8ITKRLVdfwzz"
      },
      "source": [
        "Após esses filtros, vamos ver quantas unidades restaram.\n",
        "\n",
        "Podemos fazer isso usando o procedimento `len`, que conta a quantidade de elementos em uma lista:"
      ]
    },
    {
      "cell_type": "code",
      "metadata": {
        "id": "QtkVaydjTUXF"
      },
      "source": [
        "nomes_unidades = dados_graduação[\"nome_unidade\"].unique()\n",
        "len(nomes_unidades)"
      ],
      "execution_count": null,
      "outputs": []
    },
    {
      "cell_type": "code",
      "metadata": {
        "id": "NDyJnUIWUz-Q"
      },
      "source": [
        "nomes_unidades"
      ],
      "execution_count": null,
      "outputs": []
    },
    {
      "cell_type": "markdown",
      "metadata": {
        "id": "chNqj7BJf9kd"
      },
      "source": [
        "Ainda no etapa de validação de dados, vamos ver se há dados inválidos na característica `sexo`.\n",
        "\n",
        "Podemos fazer isso usando o procedimento `all(condição)`, que avalia se não houve quebra da condição informada: "
      ]
    },
    {
      "cell_type": "code",
      "metadata": {
        "id": "1SqTLFqPgUPy"
      },
      "source": [
        "condição_sexo = dados_graduação[\"sexo\"].isin([\"M\",\"F\"])\n",
        "all(condição_sexo)"
      ],
      "execution_count": null,
      "outputs": []
    },
    {
      "cell_type": "markdown",
      "metadata": {
        "id": "v5_YLmA3gzd2"
      },
      "source": [
        "Mantemos, então, apenas as entradas válidas:"
      ]
    },
    {
      "cell_type": "code",
      "metadata": {
        "id": "IonSBmUHgcZy"
      },
      "source": [
        "dados_graduação = dados_graduação[condição_sexo]"
      ],
      "execution_count": null,
      "outputs": []
    },
    {
      "cell_type": "markdown",
      "metadata": {
        "id": "OzgpWgI1g65r"
      },
      "source": [
        "Baseado nas experiências anteriores, qual o próximo passo em nossa análise?"
      ]
    },
    {
      "cell_type": "code",
      "metadata": {
        "id": "6EGYLOc6TTYm"
      },
      "source": [
        "percentual_graduação = pd.crosstab(dados_graduação[\"nome_unidade\"], dados_graduação[\"sexo\"], normalize=\"index\")\n",
        "percentual_graduação"
      ],
      "execution_count": null,
      "outputs": []
    },
    {
      "cell_type": "markdown",
      "metadata": {
        "id": "nPg7DffchCCl"
      },
      "source": [
        "Vamos isolar apenas os dados referentes ao público feminino.\n",
        "\n",
        "Além disto, vamos ordenar estes valores em ordem crescente usando o método `sort_values()`:"
      ]
    },
    {
      "cell_type": "code",
      "metadata": {
        "id": "LBv-V_UpTSHo"
      },
      "source": [
        "dados_graduação_feminino = percentual_graduação[\"F\"].sort_values()\n",
        "dados_graduação_feminino"
      ],
      "execution_count": null,
      "outputs": []
    },
    {
      "cell_type": "markdown",
      "metadata": {
        "id": "SaKPq3cmhsRZ"
      },
      "source": [
        "Os valores mínimo e máximo para o percentual de mulheres estão bastante separados.\n",
        "\n",
        "Vamos dar uma olhada em estatísticas descritivas sobre essa série:"
      ]
    },
    {
      "cell_type": "code",
      "metadata": {
        "id": "kHywH7dTTRsO"
      },
      "source": [
        "dados_graduação_feminino.describe()"
      ],
      "execution_count": null,
      "outputs": []
    },
    {
      "cell_type": "markdown",
      "metadata": {
        "id": "t1KPqv04iuT1"
      },
      "source": [
        "A média e a mediana encontram-se próximas a 50%, o que é um dado interessante.\n",
        "\n",
        "No entanto, o desvio padrão de 20% é bastante elevado.\n",
        "\n",
        "Vamos ver quais cursos ficaram abaixo do primeiro quartil:"
      ]
    },
    {
      "cell_type": "code",
      "metadata": {
        "id": "REBIe1YHUwHy"
      },
      "source": [
        "dados_graduação_feminino[dados_graduação_feminino <= dados_graduação_feminino.quantile(0.25)]"
      ],
      "execution_count": null,
      "outputs": []
    },
    {
      "cell_type": "markdown",
      "metadata": {
        "id": "Ahw5ZnLtj7hw"
      },
      "source": [
        "Em geral, são cursos relacionados a ciências exatas, engenharia e tecnologias. \n",
        "\n",
        "Essa é uma realidade conhecida, mas surpreende que cursos de música também estejam nesse grupo.\n",
        "\n",
        "E quais ficaram acima do terceiro quartil?"
      ]
    },
    {
      "cell_type": "code",
      "metadata": {
        "id": "m-knzpk9Ypaj"
      },
      "source": [
        "dados_graduação_feminino[dados_graduação_feminino >= dados_graduação_feminino.quantile(0.75)]"
      ],
      "execution_count": null,
      "outputs": []
    },
    {
      "cell_type": "markdown",
      "metadata": {
        "id": "hwKmntRjjqve"
      },
      "source": [
        "Cursos da área de sáude e educação, outra realidade assimilada na universidade.\n",
        "\n",
        "Para termos a visão completa, vamos usar o método `distplot` do seaborn para analisar a distribuição dos dados e compará-la com uma distribuição normal.\n",
        "\n",
        "Para isso, precisaremos do método norm do da biblioteca `scipy`:"
      ]
    },
    {
      "cell_type": "code",
      "metadata": {
        "id": "cPA3XHfuTPhD"
      },
      "source": [
        "from scipy.stats import norm"
      ],
      "execution_count": null,
      "outputs": []
    },
    {
      "cell_type": "code",
      "metadata": {
        "id": "OlCG4IAxMv0T"
      },
      "source": [
        "sns.distplot(dados_graduação_feminino, fit=norm, bins=10)\n",
        "plt.ylabel(\"Quantidade de unidades\")\n",
        "plt.xlabel(\"Percentual\")\n",
        "plt.title(\"Discentes de graduação do sexo feminino por unidade acadêmica\")"
      ],
      "execution_count": null,
      "outputs": []
    },
    {
      "cell_type": "markdown",
      "metadata": {
        "id": "ZVXiI12Qkyjq"
      },
      "source": [
        "Entendendo o código acima, a opção `fit=norm` gera a distribuição normal de referência para comparação, em preto.\n",
        "\n",
        "Por sua vez, a opção `bins=10` configura quantos intervalos serão considerados pelo histograma.\n",
        "\n",
        "Interpretando o gráfico, chegamos à hipotese de que haja três grandes grupos de cursos, sendo que apenas um representa uma situação de diversidade.\n",
        "\n",
        "Vamos tentar avaliar essa hipótese com um maior refinamento, partindo para uma análise dos cursos da UFRN:"
      ]
    },
    {
      "cell_type": "code",
      "metadata": {
        "id": "WXiFEWoI9vYz"
      },
      "source": [
        "len(dados_graduação[\"nome_curso\"].unique())"
      ],
      "execution_count": null,
      "outputs": []
    },
    {
      "cell_type": "markdown",
      "metadata": {
        "id": "apUaUPq9nHbW"
      },
      "source": [
        "Aqui cabe uma ressalva: os datasets apontam 82 nomes de cursos diferentes, mas existem mais de 120 cursos de graduação na UFRN.\n",
        "\n",
        "O motivo para o número menor é que cursos de licenciatura e bacharelado não são distinguidos pelo nome nestes datasets.\n",
        "\n",
        "Continuando nossa análise:"
      ]
    },
    {
      "cell_type": "code",
      "metadata": {
        "id": "UrLx3hUz9vG_"
      },
      "source": [
        "percentual_cursos = pd.crosstab(dados_graduação[\"nome_curso\"], dados_graduação[\"sexo\"], normalize=\"index\")\n",
        "percentual_cursos"
      ],
      "execution_count": null,
      "outputs": []
    },
    {
      "cell_type": "markdown",
      "metadata": {
        "id": "4U-jefbZoWOz"
      },
      "source": [
        "Selecionando apenas os dados para o público feminino e os ordenando:"
      ]
    },
    {
      "cell_type": "code",
      "metadata": {
        "id": "auUCD7Tb9ufm"
      },
      "source": [
        "dados_cursos_feminino = percentual_cursos[\"F\"].sort_values()\n",
        "dados_cursos_feminino"
      ],
      "execution_count": null,
      "outputs": []
    },
    {
      "cell_type": "markdown",
      "metadata": {
        "id": "ekUnyBcgoqY8"
      },
      "source": [
        "Novamente, cursos de engenharias, tecnologia, saúde e educação aparecem como os menos diversos.\n",
        "\n",
        "Vamos analisar algumas estatísticas descritivas dessa série:"
      ]
    },
    {
      "cell_type": "code",
      "metadata": {
        "id": "UvqrjwIPam62"
      },
      "source": [
        "dados_cursos_feminino.describe()"
      ],
      "execution_count": null,
      "outputs": []
    },
    {
      "cell_type": "markdown",
      "metadata": {
        "id": "vw7KboWEo-R0"
      },
      "source": [
        "Mais uma vez, a média e o desvio padrão estão próximas a 50% e o desvio padrão na casa de 20%.\n",
        "\n",
        "Vamos ver quais os cursos abaixo do primeiro quartil:"
      ]
    },
    {
      "cell_type": "code",
      "metadata": {
        "id": "b_2b1ygNo6fo"
      },
      "source": [
        "dados_cursos_feminino[dados_cursos_feminino <= dados_cursos_feminino.quantile(0.25)]"
      ],
      "execution_count": null,
      "outputs": []
    },
    {
      "cell_type": "markdown",
      "metadata": {
        "id": "Vv5WcTLOpXpL"
      },
      "source": [
        "De fato, o único novo insight que obtemos é a presença do curso de educação física neste grupo, uma exceção entre os cursos de saúde.\n",
        "\n",
        "Vamos ver agora os cursos acima do terceiro quartil:"
      ]
    },
    {
      "cell_type": "code",
      "metadata": {
        "id": "ClhS_cEEpWzu"
      },
      "source": [
        "dados_cursos_feminino[dados_cursos_feminino >= dados_cursos_feminino.quantile(0.75)]"
      ],
      "execution_count": null,
      "outputs": []
    },
    {
      "cell_type": "markdown",
      "metadata": {
        "id": "0f3dekAhp8vw"
      },
      "source": [
        "Aqui vemos mais uma exceção, com arquitetura e urbanismo neste grupo.\n",
        "\n",
        "Além disso, chama a atenção a presença de cursos de Letra, considerando que sua unidade responsável apresenta proporção quase igualitária entre discentes homens e mulheres. \n",
        "\n",
        "Para finalizar, vamos usar o `distplot` e comparamos a distribuição dos dados com uma distribuição normal:"
      ]
    },
    {
      "cell_type": "code",
      "metadata": {
        "id": "iq_8XSoQcrT-"
      },
      "source": [
        "sns.distplot(dados_cursos_feminino, fit=norm, bins=10)\n",
        "plt.ylabel(\"Quantidade de cursos\")\n",
        "plt.xlabel(\"Percentual\")\n",
        "plt.title(\"Discentes de graduação do sexo feminino por curso\")"
      ],
      "execution_count": null,
      "outputs": []
    },
    {
      "cell_type": "markdown",
      "metadata": {
        "id": "0UH1S5_RqpyU"
      },
      "source": [
        "Neste caso, notamos uma distribuição bem mais aproximada da normal.\n",
        "\n",
        "No entanto, há um pico considerável na extremidade inferior do eixo x.\n",
        "\n",
        "No geral, podemos dizer que a diversidade na universidade está em uma situação melhor do que a diversidade nos cursos da universidade.\n",
        "\n",
        "Em outras palavras, diferentes perfis encontrarão cursos para lhes atender, mas poucos cursos atenderão os diferentes perfis."
      ]
    }
  ]
}