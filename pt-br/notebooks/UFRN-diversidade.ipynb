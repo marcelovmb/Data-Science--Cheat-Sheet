{
  "nbformat": 4,
  "nbformat_minor": 0,
  "metadata": {
    "colab": {
      "name": "UFRN-diversidade",
      "provenance": [],
      "include_colab_link": true
    },
    "kernelspec": {
      "display_name": "Python 3",
      "language": "python",
      "name": "python3"
    },
    "language_info": {
      "codemirror_mode": {
        "name": "ipython",
        "version": 3
      },
      "file_extension": ".py",
      "mimetype": "text/x-python",
      "name": "python",
      "nbconvert_exporter": "python",
      "pygments_lexer": "ipython3",
      "version": "3.6.8"
    }
  },
  "cells": [
    {
      "cell_type": "markdown",
      "metadata": {
        "id": "view-in-github",
        "colab_type": "text"
      },
      "source": [
        "<a href=\"https://colab.research.google.com/github/marcelovmb/Data-Science--Cheat-Sheet/blob/master/pt-br/notebooks/UFRN-diversidade.ipynb\" target=\"_parent\"><img src=\"https://colab.research.google.com/assets/colab-badge.svg\" alt=\"Open In Colab\"/></a>"
      ]
    },
    {
      "cell_type": "markdown",
      "metadata": {
        "id": "uVW1T7J8Er0-"
      },
      "source": [
        "# Concatenando múltiplas bases\n",
        "\n"
      ]
    },
    {
      "cell_type": "markdown",
      "metadata": {
        "id": "52SDZHnnmCWQ"
      },
      "source": [
        "Em algumas situações, a informação que se precisa está dividida em bases de dados com formato idêntico. \n",
        "\n",
        "Nesses casos, podemos **concatenar** essas bases. \n",
        "\n",
        "O exemplo a seguir investiga a diversidade nos cursos da UFRN.\n",
        "\n",
        "Nossa fonte de informação para este exemplo são os datasets sobre discentes ingressantes na UFRN, que estão organizados por ano de ingresso. "
      ]
    },
    {
      "cell_type": "markdown",
      "metadata": {
        "id": "SyeFxmErpOPL"
      },
      "source": [
        "## Coletando os dados"
      ]
    },
    {
      "cell_type": "markdown",
      "metadata": {
        "id": "0Vo16XAZpQzW"
      },
      "source": [
        "O primeiro passo quando temos bases de diferentes fontes é coletá-las da forma o mais automatizada possível.\n",
        "\n",
        "Neste exemplo, organizamos os links para os dados de discentes em um dicionário.\n",
        "\n",
        "No exemplo a seguir, cada chave é um ano e seu valor associado é o link para o dataset correspondente:"
      ]
    },
    {
      "cell_type": "code",
      "metadata": {
        "id": "4BjmHAdOtC8J"
      },
      "source": [
        "csv_discentes = {\n",
        "    2019: \"http://dados.ufrn.br/dataset/554c2d41-cfce-4278-93c6-eb9aa49c5d16/resource/a55aef81-e094-4267-8643-f283524e3dd7/download/discentes-2019.csv\",\n",
        "    2018: \"http://dados.ufrn.br/dataset/554c2d41-cfce-4278-93c6-eb9aa49c5d16/resource/146b749b-b9d0-49b2-b114-ac6cc82a4051/download/discentes-2018.csv\",\n",
        "    2017: \"http://dados.ufrn.br/dataset/554c2d41-cfce-4278-93c6-eb9aa49c5d16/resource/dc732572-a51a-4d4a-a39d-2db37cbe5382/download/discentes-2017.csv\",\n",
        "    2016: \"http://dados.ufrn.br/dataset/554c2d41-cfce-4278-93c6-eb9aa49c5d16/resource/7d2fa5b3-743f-465f-8450-91719b34a002/download/discentes-2016.csv\",\n",
        "    2015: \"http://dados.ufrn.br/dataset/554c2d41-cfce-4278-93c6-eb9aa49c5d16/resource/e2b5b843-4f58-497e-8979-44daf8df8f94/download/discentes-2015.csv\",\n",
        "    2014: \"http://dados.ufrn.br/dataset/554c2d41-cfce-4278-93c6-eb9aa49c5d16/resource/6c23a430-9a7c-4d0f-9602-1d5d97d40e6a/download/discentes-2014.csv\",\n",
        "}"
      ],
      "execution_count": 1,
      "outputs": []
    },
    {
      "cell_type": "markdown",
      "metadata": {
        "id": "81Nyk25Sq1uz"
      },
      "source": [
        "Podemos consumir cada um desses datasets usando o método `pd.read_csv()`.\n",
        "\n",
        "O Python permite que esse método seja aplicado a todos os links em sequência usando **compreensão de listas**, com a notação:\n",
        "\n",
        "```python3\n",
        "pd.read_csv(dicionário[chave]) for chave in dicionário\n",
        "```\n",
        "\n",
        "Entendendo o código acima, pedimos que o Python aplique o método `pd.read_csv(dicionário[chave])` para cada chave presente no dicionário.\n",
        "\n",
        "A lista produzida contém um `DataFrame` para cada ano.\n",
        "\n",
        "O método `pd.concat()` combina todos esses dataframes em um só:"
      ]
    },
    {
      "cell_type": "code",
      "metadata": {
        "id": "j198UW5Dcm8M"
      },
      "source": [
        "import pandas as pd"
      ],
      "execution_count": 2,
      "outputs": []
    },
    {
      "cell_type": "code",
      "metadata": {
        "id": "LA52lXFtECCQ",
        "outputId": "8ab330e5-5a72-4ced-a010-e420456ae823",
        "colab": {
          "base_uri": "https://localhost:8080/",
          "height": 1000
        }
      },
      "source": [
        "dados = pd.concat(pd.read_csv(csv_discentes[ano], sep=\";\") for ano in csv_discentes)\n",
        "dados"
      ],
      "execution_count": 3,
      "outputs": [
        {
          "output_type": "execute_result",
          "data": {
            "text/plain": [
              "         matricula                       nome_discente sexo  ano_ingresso  \\\n",
              "0      20193012209          ABDENOR BEZERRA DOS SANTOS    M          2019   \n",
              "1      20190088900     ABDIAS MONTEIRO DE ANDRADE MELO    M          2019   \n",
              "2      20190127606       ABDIAS SABINO RODRIGUES FILHO    M          2019   \n",
              "3      20195001008        ABEL GOMES DE OLIVEIRA FILHO    M          2019   \n",
              "4      20190032217         ABI AMANA DE AQUINO BEZERRA    F          2019   \n",
              "...            ...                                 ...  ...           ...   \n",
              "20562   2014069672                  ZUEZYO COSTA DUTRA    M          2014   \n",
              "20563   2014124649      ZULEIKA DANTAS DO VALE TAVARES    F          2014   \n",
              "20564   2014049400  ZULMARA ANGELA DE AZEVEDO OLIVEIRA    F          2014   \n",
              "20565   2014502053                 ZURYELL COSTA DUTRA    M          2014   \n",
              "20566   2014021768     ZYURE MARINHO OLIVEIRA DE MELLO    M          2014   \n",
              "\n",
              "       periodo_ingresso            forma_ingresso tipo_discente     status  \\\n",
              "0                   1.0         PROCESSO SELETIVO       REGULAR  CANCELADO   \n",
              "1                   1.0                      SiSU       REGULAR      ATIVO   \n",
              "2                   1.0                      SiSU       REGULAR  CANCELADO   \n",
              "3                   1.0         PROCESSO SELETIVO       REGULAR      ATIVO   \n",
              "4                   2.0                      SiSU       REGULAR      ATIVO   \n",
              "...                 ...                       ...           ...        ...   \n",
              "20562               2.0                      SiSU       REGULAR  CONCLUÍDO   \n",
              "20563               2.0  SELEÇÃO DE PÓS-GRADUAÇÃO       REGULAR  CONCLUÍDO   \n",
              "20564               1.0                      SiSU       REGULAR      ATIVO   \n",
              "20565               1.0         PROCESSO SELETIVO       REGULAR      ATIVO   \n",
              "20566               1.0                      SiSU       REGULAR  CANCELADO   \n",
              "\n",
              "      sigla_nivel_ensino           nivel_ensino     id_curso  \\\n",
              "0                      T                TÉCNICO   96054058.0   \n",
              "1                      G              GRADUAÇÃO  111635060.0   \n",
              "2                      G              GRADUAÇÃO  111635060.0   \n",
              "3                      F  FORMAÇÃO COMPLEMENTAR  112718836.0   \n",
              "4                      G              GRADUAÇÃO  119512361.0   \n",
              "...                  ...                    ...          ...   \n",
              "20562                  G              GRADUAÇÃO  104831949.0   \n",
              "20563                  E               MESTRADO   88211810.0   \n",
              "20564                  G              GRADUAÇÃO    2000019.0   \n",
              "20565                  F  FORMAÇÃO COMPLEMENTAR   86979169.0   \n",
              "20566                  G              GRADUAÇÃO  111635066.0   \n",
              "\n",
              "                                          nome_curso modalidade_educacao  \\\n",
              "0                 CURSO TÉCNICO DA METRÓPOLE DIGITAL     SEMI-PRESENCIAL   \n",
              "1                                           HISTÓRIA          PRESENCIAL   \n",
              "2                                           HISTÓRIA          PRESENCIAL   \n",
              "3      CURSO DE LÍNGUA BRASILEIRA DE SINAIS (LIBRAS)          PRESENCIAL   \n",
              "4                   COMUNICAÇÃO SOCIAL - AUDIOVISUAL          PRESENCIAL   \n",
              "...                                              ...                 ...   \n",
              "20562                                       MEDICINA          PRESENCIAL   \n",
              "20563      MESTRADO PROFISSIONAL EM SAÚDE DA FAMÍLIA          PRESENCIAL   \n",
              "20564                                        DIREITO          PRESENCIAL   \n",
              "20565               CURSO DE LÍNGUA INGLESA  BÁSICO          PRESENCIAL   \n",
              "20566                                     MATEMÁTICA          PRESENCIAL   \n",
              "\n",
              "       id_unidade                                       nome_unidade  \\\n",
              "0          6069.0                        INSTITUTO METROPOLE DIGITAL   \n",
              "1          1482.0               CENTRO DE  ENSINO SUPERIOR DO SERIDÓ   \n",
              "2          1482.0               CENTRO DE  ENSINO SUPERIOR DO SERIDÓ   \n",
              "3          6042.0  INSTITUTO ÁGORA - LÍNGUAS, LITERATURAS E CULTU...   \n",
              "4           442.0         CENTRO DE CIÊNCIAS HUMANAS, LETRAS E ARTES   \n",
              "...           ...                                                ...   \n",
              "20562      7278.0  ESCOLA MULTICAMPI DE CIÊNCIAS MÉDICAS DO RIO G...   \n",
              "20563      6135.0  PROGRAMA DE PÓS-GRADUAÇÃO EM SAÚDE DA FAMÍLIA ...   \n",
              "20564      1482.0               CENTRO DE  ENSINO SUPERIOR DO SERIDÓ   \n",
              "20565      6042.0  INSTITUTO ÁGORA - LÍNGUAS, LITERATURAS E CULTU...   \n",
              "20566       439.0               CENTRO DE CIÊNCIAS EXATAS E DA TERRA   \n",
              "\n",
              "       id_unidade_gestora                         nome_unidade_gestora  \n",
              "0                   605.0  UNIVERSIDADE FEDERAL DO RIO GRANDE DO NORTE  \n",
              "1                  1482.0         CENTRO DE  ENSINO SUPERIOR DO SERIDÓ  \n",
              "2                  1482.0         CENTRO DE  ENSINO SUPERIOR DO SERIDÓ  \n",
              "3                   442.0   CENTRO DE CIÊNCIAS HUMANAS, LETRAS E ARTES  \n",
              "4                   442.0   CENTRO DE CIÊNCIAS HUMANAS, LETRAS E ARTES  \n",
              "...                   ...                                          ...  \n",
              "20562               605.0  UNIVERSIDADE FEDERAL DO RIO GRANDE DO NORTE  \n",
              "20563               441.0                  CENTRO DE CIÊNCIAS DA SAÚDE  \n",
              "20564              1482.0         CENTRO DE  ENSINO SUPERIOR DO SERIDÓ  \n",
              "20565               442.0   CENTRO DE CIÊNCIAS HUMANAS, LETRAS E ARTES  \n",
              "20566               439.0         CENTRO DE CIÊNCIAS EXATAS E DA TERRA  \n",
              "\n",
              "[117040 rows x 17 columns]"
            ],
            "text/html": [
              "\n",
              "  <div id=\"df-49855e49-7d67-4c99-8bf0-504bb576c0fa\">\n",
              "    <div class=\"colab-df-container\">\n",
              "      <div>\n",
              "<style scoped>\n",
              "    .dataframe tbody tr th:only-of-type {\n",
              "        vertical-align: middle;\n",
              "    }\n",
              "\n",
              "    .dataframe tbody tr th {\n",
              "        vertical-align: top;\n",
              "    }\n",
              "\n",
              "    .dataframe thead th {\n",
              "        text-align: right;\n",
              "    }\n",
              "</style>\n",
              "<table border=\"1\" class=\"dataframe\">\n",
              "  <thead>\n",
              "    <tr style=\"text-align: right;\">\n",
              "      <th></th>\n",
              "      <th>matricula</th>\n",
              "      <th>nome_discente</th>\n",
              "      <th>sexo</th>\n",
              "      <th>ano_ingresso</th>\n",
              "      <th>periodo_ingresso</th>\n",
              "      <th>forma_ingresso</th>\n",
              "      <th>tipo_discente</th>\n",
              "      <th>status</th>\n",
              "      <th>sigla_nivel_ensino</th>\n",
              "      <th>nivel_ensino</th>\n",
              "      <th>id_curso</th>\n",
              "      <th>nome_curso</th>\n",
              "      <th>modalidade_educacao</th>\n",
              "      <th>id_unidade</th>\n",
              "      <th>nome_unidade</th>\n",
              "      <th>id_unidade_gestora</th>\n",
              "      <th>nome_unidade_gestora</th>\n",
              "    </tr>\n",
              "  </thead>\n",
              "  <tbody>\n",
              "    <tr>\n",
              "      <th>0</th>\n",
              "      <td>20193012209</td>\n",
              "      <td>ABDENOR BEZERRA DOS SANTOS</td>\n",
              "      <td>M</td>\n",
              "      <td>2019</td>\n",
              "      <td>1.0</td>\n",
              "      <td>PROCESSO SELETIVO</td>\n",
              "      <td>REGULAR</td>\n",
              "      <td>CANCELADO</td>\n",
              "      <td>T</td>\n",
              "      <td>TÉCNICO</td>\n",
              "      <td>96054058.0</td>\n",
              "      <td>CURSO TÉCNICO DA METRÓPOLE DIGITAL</td>\n",
              "      <td>SEMI-PRESENCIAL</td>\n",
              "      <td>6069.0</td>\n",
              "      <td>INSTITUTO METROPOLE DIGITAL</td>\n",
              "      <td>605.0</td>\n",
              "      <td>UNIVERSIDADE FEDERAL DO RIO GRANDE DO NORTE</td>\n",
              "    </tr>\n",
              "    <tr>\n",
              "      <th>1</th>\n",
              "      <td>20190088900</td>\n",
              "      <td>ABDIAS MONTEIRO DE ANDRADE MELO</td>\n",
              "      <td>M</td>\n",
              "      <td>2019</td>\n",
              "      <td>1.0</td>\n",
              "      <td>SiSU</td>\n",
              "      <td>REGULAR</td>\n",
              "      <td>ATIVO</td>\n",
              "      <td>G</td>\n",
              "      <td>GRADUAÇÃO</td>\n",
              "      <td>111635060.0</td>\n",
              "      <td>HISTÓRIA</td>\n",
              "      <td>PRESENCIAL</td>\n",
              "      <td>1482.0</td>\n",
              "      <td>CENTRO DE  ENSINO SUPERIOR DO SERIDÓ</td>\n",
              "      <td>1482.0</td>\n",
              "      <td>CENTRO DE  ENSINO SUPERIOR DO SERIDÓ</td>\n",
              "    </tr>\n",
              "    <tr>\n",
              "      <th>2</th>\n",
              "      <td>20190127606</td>\n",
              "      <td>ABDIAS SABINO RODRIGUES FILHO</td>\n",
              "      <td>M</td>\n",
              "      <td>2019</td>\n",
              "      <td>1.0</td>\n",
              "      <td>SiSU</td>\n",
              "      <td>REGULAR</td>\n",
              "      <td>CANCELADO</td>\n",
              "      <td>G</td>\n",
              "      <td>GRADUAÇÃO</td>\n",
              "      <td>111635060.0</td>\n",
              "      <td>HISTÓRIA</td>\n",
              "      <td>PRESENCIAL</td>\n",
              "      <td>1482.0</td>\n",
              "      <td>CENTRO DE  ENSINO SUPERIOR DO SERIDÓ</td>\n",
              "      <td>1482.0</td>\n",
              "      <td>CENTRO DE  ENSINO SUPERIOR DO SERIDÓ</td>\n",
              "    </tr>\n",
              "    <tr>\n",
              "      <th>3</th>\n",
              "      <td>20195001008</td>\n",
              "      <td>ABEL GOMES DE OLIVEIRA FILHO</td>\n",
              "      <td>M</td>\n",
              "      <td>2019</td>\n",
              "      <td>1.0</td>\n",
              "      <td>PROCESSO SELETIVO</td>\n",
              "      <td>REGULAR</td>\n",
              "      <td>ATIVO</td>\n",
              "      <td>F</td>\n",
              "      <td>FORMAÇÃO COMPLEMENTAR</td>\n",
              "      <td>112718836.0</td>\n",
              "      <td>CURSO DE LÍNGUA BRASILEIRA DE SINAIS (LIBRAS)</td>\n",
              "      <td>PRESENCIAL</td>\n",
              "      <td>6042.0</td>\n",
              "      <td>INSTITUTO ÁGORA - LÍNGUAS, LITERATURAS E CULTU...</td>\n",
              "      <td>442.0</td>\n",
              "      <td>CENTRO DE CIÊNCIAS HUMANAS, LETRAS E ARTES</td>\n",
              "    </tr>\n",
              "    <tr>\n",
              "      <th>4</th>\n",
              "      <td>20190032217</td>\n",
              "      <td>ABI AMANA DE AQUINO BEZERRA</td>\n",
              "      <td>F</td>\n",
              "      <td>2019</td>\n",
              "      <td>2.0</td>\n",
              "      <td>SiSU</td>\n",
              "      <td>REGULAR</td>\n",
              "      <td>ATIVO</td>\n",
              "      <td>G</td>\n",
              "      <td>GRADUAÇÃO</td>\n",
              "      <td>119512361.0</td>\n",
              "      <td>COMUNICAÇÃO SOCIAL - AUDIOVISUAL</td>\n",
              "      <td>PRESENCIAL</td>\n",
              "      <td>442.0</td>\n",
              "      <td>CENTRO DE CIÊNCIAS HUMANAS, LETRAS E ARTES</td>\n",
              "      <td>442.0</td>\n",
              "      <td>CENTRO DE CIÊNCIAS HUMANAS, LETRAS E ARTES</td>\n",
              "    </tr>\n",
              "    <tr>\n",
              "      <th>...</th>\n",
              "      <td>...</td>\n",
              "      <td>...</td>\n",
              "      <td>...</td>\n",
              "      <td>...</td>\n",
              "      <td>...</td>\n",
              "      <td>...</td>\n",
              "      <td>...</td>\n",
              "      <td>...</td>\n",
              "      <td>...</td>\n",
              "      <td>...</td>\n",
              "      <td>...</td>\n",
              "      <td>...</td>\n",
              "      <td>...</td>\n",
              "      <td>...</td>\n",
              "      <td>...</td>\n",
              "      <td>...</td>\n",
              "      <td>...</td>\n",
              "    </tr>\n",
              "    <tr>\n",
              "      <th>20562</th>\n",
              "      <td>2014069672</td>\n",
              "      <td>ZUEZYO COSTA DUTRA</td>\n",
              "      <td>M</td>\n",
              "      <td>2014</td>\n",
              "      <td>2.0</td>\n",
              "      <td>SiSU</td>\n",
              "      <td>REGULAR</td>\n",
              "      <td>CONCLUÍDO</td>\n",
              "      <td>G</td>\n",
              "      <td>GRADUAÇÃO</td>\n",
              "      <td>104831949.0</td>\n",
              "      <td>MEDICINA</td>\n",
              "      <td>PRESENCIAL</td>\n",
              "      <td>7278.0</td>\n",
              "      <td>ESCOLA MULTICAMPI DE CIÊNCIAS MÉDICAS DO RIO G...</td>\n",
              "      <td>605.0</td>\n",
              "      <td>UNIVERSIDADE FEDERAL DO RIO GRANDE DO NORTE</td>\n",
              "    </tr>\n",
              "    <tr>\n",
              "      <th>20563</th>\n",
              "      <td>2014124649</td>\n",
              "      <td>ZULEIKA DANTAS DO VALE TAVARES</td>\n",
              "      <td>F</td>\n",
              "      <td>2014</td>\n",
              "      <td>2.0</td>\n",
              "      <td>SELEÇÃO DE PÓS-GRADUAÇÃO</td>\n",
              "      <td>REGULAR</td>\n",
              "      <td>CONCLUÍDO</td>\n",
              "      <td>E</td>\n",
              "      <td>MESTRADO</td>\n",
              "      <td>88211810.0</td>\n",
              "      <td>MESTRADO PROFISSIONAL EM SAÚDE DA FAMÍLIA</td>\n",
              "      <td>PRESENCIAL</td>\n",
              "      <td>6135.0</td>\n",
              "      <td>PROGRAMA DE PÓS-GRADUAÇÃO EM SAÚDE DA FAMÍLIA ...</td>\n",
              "      <td>441.0</td>\n",
              "      <td>CENTRO DE CIÊNCIAS DA SAÚDE</td>\n",
              "    </tr>\n",
              "    <tr>\n",
              "      <th>20564</th>\n",
              "      <td>2014049400</td>\n",
              "      <td>ZULMARA ANGELA DE AZEVEDO OLIVEIRA</td>\n",
              "      <td>F</td>\n",
              "      <td>2014</td>\n",
              "      <td>1.0</td>\n",
              "      <td>SiSU</td>\n",
              "      <td>REGULAR</td>\n",
              "      <td>ATIVO</td>\n",
              "      <td>G</td>\n",
              "      <td>GRADUAÇÃO</td>\n",
              "      <td>2000019.0</td>\n",
              "      <td>DIREITO</td>\n",
              "      <td>PRESENCIAL</td>\n",
              "      <td>1482.0</td>\n",
              "      <td>CENTRO DE  ENSINO SUPERIOR DO SERIDÓ</td>\n",
              "      <td>1482.0</td>\n",
              "      <td>CENTRO DE  ENSINO SUPERIOR DO SERIDÓ</td>\n",
              "    </tr>\n",
              "    <tr>\n",
              "      <th>20565</th>\n",
              "      <td>2014502053</td>\n",
              "      <td>ZURYELL COSTA DUTRA</td>\n",
              "      <td>M</td>\n",
              "      <td>2014</td>\n",
              "      <td>1.0</td>\n",
              "      <td>PROCESSO SELETIVO</td>\n",
              "      <td>REGULAR</td>\n",
              "      <td>ATIVO</td>\n",
              "      <td>F</td>\n",
              "      <td>FORMAÇÃO COMPLEMENTAR</td>\n",
              "      <td>86979169.0</td>\n",
              "      <td>CURSO DE LÍNGUA INGLESA  BÁSICO</td>\n",
              "      <td>PRESENCIAL</td>\n",
              "      <td>6042.0</td>\n",
              "      <td>INSTITUTO ÁGORA - LÍNGUAS, LITERATURAS E CULTU...</td>\n",
              "      <td>442.0</td>\n",
              "      <td>CENTRO DE CIÊNCIAS HUMANAS, LETRAS E ARTES</td>\n",
              "    </tr>\n",
              "    <tr>\n",
              "      <th>20566</th>\n",
              "      <td>2014021768</td>\n",
              "      <td>ZYURE MARINHO OLIVEIRA DE MELLO</td>\n",
              "      <td>M</td>\n",
              "      <td>2014</td>\n",
              "      <td>1.0</td>\n",
              "      <td>SiSU</td>\n",
              "      <td>REGULAR</td>\n",
              "      <td>CANCELADO</td>\n",
              "      <td>G</td>\n",
              "      <td>GRADUAÇÃO</td>\n",
              "      <td>111635066.0</td>\n",
              "      <td>MATEMÁTICA</td>\n",
              "      <td>PRESENCIAL</td>\n",
              "      <td>439.0</td>\n",
              "      <td>CENTRO DE CIÊNCIAS EXATAS E DA TERRA</td>\n",
              "      <td>439.0</td>\n",
              "      <td>CENTRO DE CIÊNCIAS EXATAS E DA TERRA</td>\n",
              "    </tr>\n",
              "  </tbody>\n",
              "</table>\n",
              "<p>117040 rows × 17 columns</p>\n",
              "</div>\n",
              "      <button class=\"colab-df-convert\" onclick=\"convertToInteractive('df-49855e49-7d67-4c99-8bf0-504bb576c0fa')\"\n",
              "              title=\"Convert this dataframe to an interactive table.\"\n",
              "              style=\"display:none;\">\n",
              "        \n",
              "  <svg xmlns=\"http://www.w3.org/2000/svg\" height=\"24px\"viewBox=\"0 0 24 24\"\n",
              "       width=\"24px\">\n",
              "    <path d=\"M0 0h24v24H0V0z\" fill=\"none\"/>\n",
              "    <path d=\"M18.56 5.44l.94 2.06.94-2.06 2.06-.94-2.06-.94-.94-2.06-.94 2.06-2.06.94zm-11 1L8.5 8.5l.94-2.06 2.06-.94-2.06-.94L8.5 2.5l-.94 2.06-2.06.94zm10 10l.94 2.06.94-2.06 2.06-.94-2.06-.94-.94-2.06-.94 2.06-2.06.94z\"/><path d=\"M17.41 7.96l-1.37-1.37c-.4-.4-.92-.59-1.43-.59-.52 0-1.04.2-1.43.59L10.3 9.45l-7.72 7.72c-.78.78-.78 2.05 0 2.83L4 21.41c.39.39.9.59 1.41.59.51 0 1.02-.2 1.41-.59l7.78-7.78 2.81-2.81c.8-.78.8-2.07 0-2.86zM5.41 20L4 18.59l7.72-7.72 1.47 1.35L5.41 20z\"/>\n",
              "  </svg>\n",
              "      </button>\n",
              "      \n",
              "  <style>\n",
              "    .colab-df-container {\n",
              "      display:flex;\n",
              "      flex-wrap:wrap;\n",
              "      gap: 12px;\n",
              "    }\n",
              "\n",
              "    .colab-df-convert {\n",
              "      background-color: #E8F0FE;\n",
              "      border: none;\n",
              "      border-radius: 50%;\n",
              "      cursor: pointer;\n",
              "      display: none;\n",
              "      fill: #1967D2;\n",
              "      height: 32px;\n",
              "      padding: 0 0 0 0;\n",
              "      width: 32px;\n",
              "    }\n",
              "\n",
              "    .colab-df-convert:hover {\n",
              "      background-color: #E2EBFA;\n",
              "      box-shadow: 0px 1px 2px rgba(60, 64, 67, 0.3), 0px 1px 3px 1px rgba(60, 64, 67, 0.15);\n",
              "      fill: #174EA6;\n",
              "    }\n",
              "\n",
              "    [theme=dark] .colab-df-convert {\n",
              "      background-color: #3B4455;\n",
              "      fill: #D2E3FC;\n",
              "    }\n",
              "\n",
              "    [theme=dark] .colab-df-convert:hover {\n",
              "      background-color: #434B5C;\n",
              "      box-shadow: 0px 1px 3px 1px rgba(0, 0, 0, 0.15);\n",
              "      filter: drop-shadow(0px 1px 2px rgba(0, 0, 0, 0.3));\n",
              "      fill: #FFFFFF;\n",
              "    }\n",
              "  </style>\n",
              "\n",
              "      <script>\n",
              "        const buttonEl =\n",
              "          document.querySelector('#df-49855e49-7d67-4c99-8bf0-504bb576c0fa button.colab-df-convert');\n",
              "        buttonEl.style.display =\n",
              "          google.colab.kernel.accessAllowed ? 'block' : 'none';\n",
              "\n",
              "        async function convertToInteractive(key) {\n",
              "          const element = document.querySelector('#df-49855e49-7d67-4c99-8bf0-504bb576c0fa');\n",
              "          const dataTable =\n",
              "            await google.colab.kernel.invokeFunction('convertToInteractive',\n",
              "                                                     [key], {});\n",
              "          if (!dataTable) return;\n",
              "\n",
              "          const docLinkHtml = 'Like what you see? Visit the ' +\n",
              "            '<a target=\"_blank\" href=https://colab.research.google.com/notebooks/data_table.ipynb>data table notebook</a>'\n",
              "            + ' to learn more about interactive tables.';\n",
              "          element.innerHTML = '';\n",
              "          dataTable['output_type'] = 'display_data';\n",
              "          await google.colab.output.renderOutput(dataTable, element);\n",
              "          const docLink = document.createElement('div');\n",
              "          docLink.innerHTML = docLinkHtml;\n",
              "          element.appendChild(docLink);\n",
              "        }\n",
              "      </script>\n",
              "    </div>\n",
              "  </div>\n",
              "  "
            ]
          },
          "metadata": {},
          "execution_count": 3
        }
      ]
    },
    {
      "cell_type": "markdown",
      "metadata": {
        "id": "n92X93kQP5ug"
      },
      "source": [
        "Agora que já unimos os datasets, vamos salvá-lo para não precisarmos refazer esse processo a cada vez.\n",
        "\n",
        "Uma das formas de **persistir** um `DataFrame` é usar o método `to_csv()` que salva os dados em um arquivo CSV:"
      ]
    },
    {
      "cell_type": "code",
      "metadata": {
        "id": "9lXgRFkaQYHG",
        "outputId": "b35710ee-eb3f-442a-ae26-5c03239a9f06",
        "colab": {
          "base_uri": "https://localhost:8080/"
        }
      },
      "source": [
        "from google.colab import drive\n",
        "drive.mount('/content/drive')"
      ],
      "execution_count": 4,
      "outputs": [
        {
          "output_type": "stream",
          "name": "stdout",
          "text": [
            "Mounted at /content/drive\n"
          ]
        }
      ]
    },
    {
      "cell_type": "code",
      "metadata": {
        "id": "OJpkfzPaPny0"
      },
      "source": [
        "dados.to_csv(\"/content/drive/My Drive/discentes-ufrn-2014-2019.csv\", index=False)"
      ],
      "execution_count": 5,
      "outputs": []
    },
    {
      "cell_type": "markdown",
      "metadata": {
        "id": "s20VksOkEqnU"
      },
      "source": [
        "## Avaliando a diversidade no IMD"
      ]
    },
    {
      "cell_type": "markdown",
      "metadata": {
        "id": "_-L7W5-nc7_f"
      },
      "source": [
        "Começamos nossa análise pelos dados do IMD.\n",
        "\n",
        "Fazemos essa seleção filtrando pelo campo `nome_unidade`:"
      ]
    },
    {
      "cell_type": "code",
      "metadata": {
        "id": "J3OCZTPCEqH_",
        "outputId": "943377b0-39e2-4463-c548-e88c52c43b76",
        "colab": {
          "base_uri": "https://localhost:8080/"
        }
      },
      "source": [
        "dados_imd = dados.query(\"nome_unidade == 'INSTITUTO METROPOLE DIGITAL'\")\n",
        "dados_imd.shape"
      ],
      "execution_count": 6,
      "outputs": [
        {
          "output_type": "execute_result",
          "data": {
            "text/plain": [
              "(9912, 17)"
            ]
          },
          "metadata": {},
          "execution_count": 6
        }
      ]
    },
    {
      "cell_type": "markdown",
      "metadata": {
        "id": "87H0RCt3fuoN"
      },
      "source": [
        "Uma operação bastante comum em bancos de dados é calcular estatísticas que exigem **agrupar** os dados.\n",
        "\n",
        "No Pandas, podemos fazer isso usando o método `groupby()` dos objetos do tipo `DataFrame`.\n",
        "\n",
        "O exemplo a seguir calcula a quantidade de observações por ano, isto é, a quantidade de ingressantes nos cursos do IMD entre 2014 e 2019.\n",
        "\n",
        "Antes, no entanto, precisamos verificar se há **dados faltando** nesta coluna:"
      ]
    },
    {
      "cell_type": "code",
      "metadata": {
        "id": "t0cIyasBrgvo",
        "outputId": "ce28dffa-e219-4728-b44e-1609a5b9ae0b",
        "colab": {
          "base_uri": "https://localhost:8080/"
        }
      },
      "source": [
        "dados_imd.isnull().sum()"
      ],
      "execution_count": 7,
      "outputs": [
        {
          "output_type": "execute_result",
          "data": {
            "text/plain": [
              "matricula               0\n",
              "nome_discente           0\n",
              "sexo                    0\n",
              "ano_ingresso            0\n",
              "periodo_ingresso        0\n",
              "forma_ingresso          0\n",
              "tipo_discente           0\n",
              "status                  0\n",
              "sigla_nivel_ensino      0\n",
              "nivel_ensino            0\n",
              "id_curso                0\n",
              "nome_curso              0\n",
              "modalidade_educacao     0\n",
              "id_unidade              0\n",
              "nome_unidade            0\n",
              "id_unidade_gestora      0\n",
              "nome_unidade_gestora    0\n",
              "dtype: int64"
            ]
          },
          "metadata": {},
          "execution_count": 7
        }
      ]
    },
    {
      "cell_type": "markdown",
      "metadata": {
        "id": "khYucdNSgTHJ"
      },
      "source": [
        "Como não temos dados faltando, podemos prosseguir com a análise:"
      ]
    },
    {
      "cell_type": "code",
      "metadata": {
        "id": "EtdT6fd_FC0X",
        "outputId": "d1d5ccec-1e08-4eb2-beb4-b394727f9277",
        "colab": {
          "base_uri": "https://localhost:8080/"
        }
      },
      "source": [
        "dados_imd.groupby(\"ano_ingresso\").size()"
      ],
      "execution_count": 8,
      "outputs": [
        {
          "output_type": "execute_result",
          "data": {
            "text/plain": [
              "ano_ingresso\n",
              "2014    1770\n",
              "2015    1848\n",
              "2016    1684\n",
              "2017    2364\n",
              "2018    1122\n",
              "2019    1124\n",
              "dtype: int64"
            ]
          },
          "metadata": {},
          "execution_count": 8
        }
      ]
    },
    {
      "cell_type": "markdown",
      "metadata": {
        "id": "CuDMsm_zhzF1"
      },
      "source": [
        "Também podemos fazer agrupamentos considerando múltiplas características dos dados:"
      ]
    },
    {
      "cell_type": "code",
      "metadata": {
        "id": "uhmavZ-3FvzH",
        "outputId": "8ae9dbaf-70be-4cf2-c7ce-789fccb17419",
        "colab": {
          "base_uri": "https://localhost:8080/"
        }
      },
      "source": [
        "dados_imd.groupby([\"nome_curso\",\"ano_ingresso\",\"sexo\"]).size()"
      ],
      "execution_count": 9,
      "outputs": [
        {
          "output_type": "execute_result",
          "data": {
            "text/plain": [
              "nome_curso                                                                      ano_ingresso  sexo \n",
              "CURSO TÉCNICO DA METRÓPOLE DIGITAL                                              2014          F         391\n",
              "                                                                                              M        1105\n",
              "                                                                                2015          F         391\n",
              "                                                                                              M        1093\n",
              "                                                                                              false       1\n",
              "                                                                                2016          F         295\n",
              "                                                                                              M         991\n",
              "                                                                                2017          F         695\n",
              "                                                                                              M        1264\n",
              "                                                                                2018          F         147\n",
              "                                                                                              M         539\n",
              "                                                                                2019          F         145\n",
              "                                                                                              M         539\n",
              "ESPECIALIZAÇÃO EM BIG DATA                                                      2016          F           6\n",
              "                                                                                              M          23\n",
              "ESPECIALIZAÇÃO EM DESENVOLVIMENTO DE APLICAÇÕES PARA DISPOSITIVOS MÓVEIS        2015          M           4\n",
              "                                                                                2016          M          20\n",
              "ESPECIALIZAÇÃO EM DESENVOLVIMENTO PARA DISPOSITIVOS MÓVEIS                      2015          M          26\n",
              "                                                                                2018          F           1\n",
              "                                                                                              M          23\n",
              "ESPECIALIZAÇÃO EM DIREITO DA INOVAÇÃO TECNOLÓGICA                               2019          F          11\n",
              "                                                                                              M          20\n",
              "ESPECIALIZAÇÃO EM SISTEMAS EMBARCADOS PARA INTERNET DAS COISAS                  2018          M          21\n",
              "ESPECIALIZAÇÃO EM TECNOLOGIA DA INFORMAÇÃO - TCE/RN                             2019          M           8\n",
              "ESPECIALIZAÇÃO EM TECNOLOGIA DA INFORMAÇÃO - TURMA TRE/RN                       2018          F           1\n",
              "                                                                                              M          26\n",
              "RESIDÊNCIA EM TECNOLOGIA DA INFORMAÇÃO - JFRN                                   2019          F           1\n",
              "                                                                                              M           5\n",
              "RESIDÊNCIA EM TECNOLOGIA DA INFORMAÇÃO - TCE/RN                                 2019          M          14\n",
              "RESIDÊNCIA EM TECNOLOGIA DA INFORMAÇÃO - TURMA NUPLAM                           2019          F           2\n",
              "                                                                                              M          22\n",
              "RESIDÊNCIA EM TECNOLOGIA DA INFORMAÇÃO - TURMA TRE/RN                           2018          M          11\n",
              "                                                                                2019          M           2\n",
              "RESIDÊNCIA EM TECNOLOGIA DA INFORMAÇÃO APLICADA À ÁREA JURÍDICA                 2017          F           4\n",
              "                                                                                              M          37\n",
              "                                                                                2018          F           1\n",
              "                                                                                              M           5\n",
              "RESIDÊNCIA EM TECNOLOGIA DA INFORMAÇÃO APLICADA À ÁREA JURÍDICA - TURMA JF      2017          F           2\n",
              "                                                                                              M          11\n",
              "                                                                                2018          F           1\n",
              "                                                                                              M           2\n",
              "                                                                                2019          M           6\n",
              "RESIDÊNCIA EM TECNOLOGIA DA INFORMAÇÃO APLICADA À ÁREA JURÍDICA - TURMA TCE/RN  2017          F           1\n",
              "                                                                                              M          19\n",
              "                                                                                2018          M           3\n",
              "TECNOLOGIA DA INFORMAÇÃO                                                        2014          F          28\n",
              "                                                                                              M         246\n",
              "                                                                                2015          F          39\n",
              "                                                                                              M         294\n",
              "                                                                                2016          F          31\n",
              "                                                                                              M         318\n",
              "                                                                                2017          F          28\n",
              "                                                                                              M         303\n",
              "                                                                                2018          F          45\n",
              "                                                                                              M         296\n",
              "                                                                                2019          F          35\n",
              "                                                                                              M         314\n",
              "dtype: int64"
            ]
          },
          "metadata": {},
          "execution_count": 9
        }
      ]
    },
    {
      "cell_type": "markdown",
      "metadata": {
        "id": "jTZTFJzulqPc"
      },
      "source": [
        "Para verificar existência de **dados inválidos**, precisaremos nos assegurar que fiquem no dataframe apenas observações que respeitem as possibilidades disponíveis para esta característica: "
      ]
    },
    {
      "cell_type": "code",
      "metadata": {
        "id": "z_1rgFFlGKrO",
        "outputId": "da8950a8-1ee2-4e55-c0bd-8c6133b7196a",
        "colab": {
          "base_uri": "https://localhost:8080/"
        }
      },
      "source": [
        "dados_imd = dados_imd.query(\"sexo in ['M','F']\")\n",
        "dados_imd.shape"
      ],
      "execution_count": 10,
      "outputs": [
        {
          "output_type": "execute_result",
          "data": {
            "text/plain": [
              "(9911, 17)"
            ]
          },
          "metadata": {},
          "execution_count": 10
        }
      ]
    },
    {
      "cell_type": "code",
      "metadata": {
        "id": "rq7fqNf0GcNl",
        "outputId": "c2c53ae2-fe53-4ee5-8fa4-f2daa90160db",
        "colab": {
          "base_uri": "https://localhost:8080/"
        }
      },
      "source": [
        "dados_imd.groupby([\"nome_curso\",\"ano_ingresso\",\"sexo\"]).size()"
      ],
      "execution_count": 11,
      "outputs": [
        {
          "output_type": "execute_result",
          "data": {
            "text/plain": [
              "nome_curso                                                                      ano_ingresso  sexo\n",
              "CURSO TÉCNICO DA METRÓPOLE DIGITAL                                              2014          F        391\n",
              "                                                                                              M       1105\n",
              "                                                                                2015          F        391\n",
              "                                                                                              M       1093\n",
              "                                                                                2016          F        295\n",
              "                                                                                              M        991\n",
              "                                                                                2017          F        695\n",
              "                                                                                              M       1264\n",
              "                                                                                2018          F        147\n",
              "                                                                                              M        539\n",
              "                                                                                2019          F        145\n",
              "                                                                                              M        539\n",
              "ESPECIALIZAÇÃO EM BIG DATA                                                      2016          F          6\n",
              "                                                                                              M         23\n",
              "ESPECIALIZAÇÃO EM DESENVOLVIMENTO DE APLICAÇÕES PARA DISPOSITIVOS MÓVEIS        2015          M          4\n",
              "                                                                                2016          M         20\n",
              "ESPECIALIZAÇÃO EM DESENVOLVIMENTO PARA DISPOSITIVOS MÓVEIS                      2015          M         26\n",
              "                                                                                2018          F          1\n",
              "                                                                                              M         23\n",
              "ESPECIALIZAÇÃO EM DIREITO DA INOVAÇÃO TECNOLÓGICA                               2019          F         11\n",
              "                                                                                              M         20\n",
              "ESPECIALIZAÇÃO EM SISTEMAS EMBARCADOS PARA INTERNET DAS COISAS                  2018          M         21\n",
              "ESPECIALIZAÇÃO EM TECNOLOGIA DA INFORMAÇÃO - TCE/RN                             2019          M          8\n",
              "ESPECIALIZAÇÃO EM TECNOLOGIA DA INFORMAÇÃO - TURMA TRE/RN                       2018          F          1\n",
              "                                                                                              M         26\n",
              "RESIDÊNCIA EM TECNOLOGIA DA INFORMAÇÃO - JFRN                                   2019          F          1\n",
              "                                                                                              M          5\n",
              "RESIDÊNCIA EM TECNOLOGIA DA INFORMAÇÃO - TCE/RN                                 2019          M         14\n",
              "RESIDÊNCIA EM TECNOLOGIA DA INFORMAÇÃO - TURMA NUPLAM                           2019          F          2\n",
              "                                                                                              M         22\n",
              "RESIDÊNCIA EM TECNOLOGIA DA INFORMAÇÃO - TURMA TRE/RN                           2018          M         11\n",
              "                                                                                2019          M          2\n",
              "RESIDÊNCIA EM TECNOLOGIA DA INFORMAÇÃO APLICADA À ÁREA JURÍDICA                 2017          F          4\n",
              "                                                                                              M         37\n",
              "                                                                                2018          F          1\n",
              "                                                                                              M          5\n",
              "RESIDÊNCIA EM TECNOLOGIA DA INFORMAÇÃO APLICADA À ÁREA JURÍDICA - TURMA JF      2017          F          2\n",
              "                                                                                              M         11\n",
              "                                                                                2018          F          1\n",
              "                                                                                              M          2\n",
              "                                                                                2019          M          6\n",
              "RESIDÊNCIA EM TECNOLOGIA DA INFORMAÇÃO APLICADA À ÁREA JURÍDICA - TURMA TCE/RN  2017          F          1\n",
              "                                                                                              M         19\n",
              "                                                                                2018          M          3\n",
              "TECNOLOGIA DA INFORMAÇÃO                                                        2014          F         28\n",
              "                                                                                              M        246\n",
              "                                                                                2015          F         39\n",
              "                                                                                              M        294\n",
              "                                                                                2016          F         31\n",
              "                                                                                              M        318\n",
              "                                                                                2017          F         28\n",
              "                                                                                              M        303\n",
              "                                                                                2018          F         45\n",
              "                                                                                              M        296\n",
              "                                                                                2019          F         35\n",
              "                                                                                              M        314\n",
              "dtype: int64"
            ]
          },
          "metadata": {},
          "execution_count": 11
        }
      ]
    },
    {
      "cell_type": "markdown",
      "metadata": {
        "id": "xLXRI1V_nMGR"
      },
      "source": [
        "Vamos restringir nossa análise ao Bacharelado em Tecnologia da Informação (BTI).\n",
        "\n",
        "Fazemos isso filtrando os dados pela característica `nome_curso`:"
      ]
    },
    {
      "cell_type": "code",
      "metadata": {
        "id": "jx3HxkKbGqxz"
      },
      "source": [
        "dados_bti = dados_imd.query(\"nome_curso == 'TECNOLOGIA DA INFORMAÇÃO'\")"
      ],
      "execution_count": 12,
      "outputs": []
    },
    {
      "cell_type": "code",
      "metadata": {
        "id": "RCw5PQmgGnLz",
        "outputId": "32565058-644e-4f49-9828-eaec722ad6ee",
        "colab": {
          "base_uri": "https://localhost:8080/"
        }
      },
      "source": [
        "agregado_bti = dados_bti.groupby([\"ano_ingresso\",\"sexo\"]).size()\n",
        "agregado_bti"
      ],
      "execution_count": 13,
      "outputs": [
        {
          "output_type": "execute_result",
          "data": {
            "text/plain": [
              "ano_ingresso  sexo\n",
              "2014          F        28\n",
              "              M       246\n",
              "2015          F        39\n",
              "              M       294\n",
              "2016          F        31\n",
              "              M       318\n",
              "2017          F        28\n",
              "              M       303\n",
              "2018          F        45\n",
              "              M       296\n",
              "2019          F        35\n",
              "              M       314\n",
              "dtype: int64"
            ]
          },
          "metadata": {},
          "execution_count": 13
        }
      ]
    },
    {
      "cell_type": "markdown",
      "metadata": {
        "id": "-hmlyfa-nVCK"
      },
      "source": [
        "Como a quantidade de ingressantes por ano varia, comparar anos diferentes só é possível em termos relativos.\n",
        "\n",
        "Para isso, o Pandas oferece o método `crosstab`, cuja opção `normalize` determina se a contagem de frequência será normalizada ou não e como. \n",
        "\n",
        "Neste caso, informamos que a normalização seja feita pela característica listada horizontalmente (índices):"
      ]
    },
    {
      "cell_type": "code",
      "metadata": {
        "id": "0S5pUIOVn2J6",
        "outputId": "84deb5b4-7f64-445d-98f6-ce90df024c5e",
        "colab": {
          "base_uri": "https://localhost:8080/",
          "height": 269
        }
      },
      "source": [
        "percentual_bti = pd.crosstab(dados_bti[\"ano_ingresso\"], dados_bti[\"sexo\"], normalize=\"index\")\n",
        "percentual_bti"
      ],
      "execution_count": 14,
      "outputs": [
        {
          "output_type": "execute_result",
          "data": {
            "text/plain": [
              "sexo                 F         M\n",
              "ano_ingresso                    \n",
              "2014          0.102190  0.897810\n",
              "2015          0.117117  0.882883\n",
              "2016          0.088825  0.911175\n",
              "2017          0.084592  0.915408\n",
              "2018          0.131965  0.868035\n",
              "2019          0.100287  0.899713"
            ],
            "text/html": [
              "\n",
              "  <div id=\"df-0b59bf05-49b5-485b-a95f-253cfa3f57b7\">\n",
              "    <div class=\"colab-df-container\">\n",
              "      <div>\n",
              "<style scoped>\n",
              "    .dataframe tbody tr th:only-of-type {\n",
              "        vertical-align: middle;\n",
              "    }\n",
              "\n",
              "    .dataframe tbody tr th {\n",
              "        vertical-align: top;\n",
              "    }\n",
              "\n",
              "    .dataframe thead th {\n",
              "        text-align: right;\n",
              "    }\n",
              "</style>\n",
              "<table border=\"1\" class=\"dataframe\">\n",
              "  <thead>\n",
              "    <tr style=\"text-align: right;\">\n",
              "      <th>sexo</th>\n",
              "      <th>F</th>\n",
              "      <th>M</th>\n",
              "    </tr>\n",
              "    <tr>\n",
              "      <th>ano_ingresso</th>\n",
              "      <th></th>\n",
              "      <th></th>\n",
              "    </tr>\n",
              "  </thead>\n",
              "  <tbody>\n",
              "    <tr>\n",
              "      <th>2014</th>\n",
              "      <td>0.102190</td>\n",
              "      <td>0.897810</td>\n",
              "    </tr>\n",
              "    <tr>\n",
              "      <th>2015</th>\n",
              "      <td>0.117117</td>\n",
              "      <td>0.882883</td>\n",
              "    </tr>\n",
              "    <tr>\n",
              "      <th>2016</th>\n",
              "      <td>0.088825</td>\n",
              "      <td>0.911175</td>\n",
              "    </tr>\n",
              "    <tr>\n",
              "      <th>2017</th>\n",
              "      <td>0.084592</td>\n",
              "      <td>0.915408</td>\n",
              "    </tr>\n",
              "    <tr>\n",
              "      <th>2018</th>\n",
              "      <td>0.131965</td>\n",
              "      <td>0.868035</td>\n",
              "    </tr>\n",
              "    <tr>\n",
              "      <th>2019</th>\n",
              "      <td>0.100287</td>\n",
              "      <td>0.899713</td>\n",
              "    </tr>\n",
              "  </tbody>\n",
              "</table>\n",
              "</div>\n",
              "      <button class=\"colab-df-convert\" onclick=\"convertToInteractive('df-0b59bf05-49b5-485b-a95f-253cfa3f57b7')\"\n",
              "              title=\"Convert this dataframe to an interactive table.\"\n",
              "              style=\"display:none;\">\n",
              "        \n",
              "  <svg xmlns=\"http://www.w3.org/2000/svg\" height=\"24px\"viewBox=\"0 0 24 24\"\n",
              "       width=\"24px\">\n",
              "    <path d=\"M0 0h24v24H0V0z\" fill=\"none\"/>\n",
              "    <path d=\"M18.56 5.44l.94 2.06.94-2.06 2.06-.94-2.06-.94-.94-2.06-.94 2.06-2.06.94zm-11 1L8.5 8.5l.94-2.06 2.06-.94-2.06-.94L8.5 2.5l-.94 2.06-2.06.94zm10 10l.94 2.06.94-2.06 2.06-.94-2.06-.94-.94-2.06-.94 2.06-2.06.94z\"/><path d=\"M17.41 7.96l-1.37-1.37c-.4-.4-.92-.59-1.43-.59-.52 0-1.04.2-1.43.59L10.3 9.45l-7.72 7.72c-.78.78-.78 2.05 0 2.83L4 21.41c.39.39.9.59 1.41.59.51 0 1.02-.2 1.41-.59l7.78-7.78 2.81-2.81c.8-.78.8-2.07 0-2.86zM5.41 20L4 18.59l7.72-7.72 1.47 1.35L5.41 20z\"/>\n",
              "  </svg>\n",
              "      </button>\n",
              "      \n",
              "  <style>\n",
              "    .colab-df-container {\n",
              "      display:flex;\n",
              "      flex-wrap:wrap;\n",
              "      gap: 12px;\n",
              "    }\n",
              "\n",
              "    .colab-df-convert {\n",
              "      background-color: #E8F0FE;\n",
              "      border: none;\n",
              "      border-radius: 50%;\n",
              "      cursor: pointer;\n",
              "      display: none;\n",
              "      fill: #1967D2;\n",
              "      height: 32px;\n",
              "      padding: 0 0 0 0;\n",
              "      width: 32px;\n",
              "    }\n",
              "\n",
              "    .colab-df-convert:hover {\n",
              "      background-color: #E2EBFA;\n",
              "      box-shadow: 0px 1px 2px rgba(60, 64, 67, 0.3), 0px 1px 3px 1px rgba(60, 64, 67, 0.15);\n",
              "      fill: #174EA6;\n",
              "    }\n",
              "\n",
              "    [theme=dark] .colab-df-convert {\n",
              "      background-color: #3B4455;\n",
              "      fill: #D2E3FC;\n",
              "    }\n",
              "\n",
              "    [theme=dark] .colab-df-convert:hover {\n",
              "      background-color: #434B5C;\n",
              "      box-shadow: 0px 1px 3px 1px rgba(0, 0, 0, 0.15);\n",
              "      filter: drop-shadow(0px 1px 2px rgba(0, 0, 0, 0.3));\n",
              "      fill: #FFFFFF;\n",
              "    }\n",
              "  </style>\n",
              "\n",
              "      <script>\n",
              "        const buttonEl =\n",
              "          document.querySelector('#df-0b59bf05-49b5-485b-a95f-253cfa3f57b7 button.colab-df-convert');\n",
              "        buttonEl.style.display =\n",
              "          google.colab.kernel.accessAllowed ? 'block' : 'none';\n",
              "\n",
              "        async function convertToInteractive(key) {\n",
              "          const element = document.querySelector('#df-0b59bf05-49b5-485b-a95f-253cfa3f57b7');\n",
              "          const dataTable =\n",
              "            await google.colab.kernel.invokeFunction('convertToInteractive',\n",
              "                                                     [key], {});\n",
              "          if (!dataTable) return;\n",
              "\n",
              "          const docLinkHtml = 'Like what you see? Visit the ' +\n",
              "            '<a target=\"_blank\" href=https://colab.research.google.com/notebooks/data_table.ipynb>data table notebook</a>'\n",
              "            + ' to learn more about interactive tables.';\n",
              "          element.innerHTML = '';\n",
              "          dataTable['output_type'] = 'display_data';\n",
              "          await google.colab.output.renderOutput(dataTable, element);\n",
              "          const docLink = document.createElement('div');\n",
              "          docLink.innerHTML = docLinkHtml;\n",
              "          element.appendChild(docLink);\n",
              "        }\n",
              "      </script>\n",
              "    </div>\n",
              "  </div>\n",
              "  "
            ]
          },
          "metadata": {},
          "execution_count": 14
        }
      ]
    },
    {
      "cell_type": "markdown",
      "metadata": {
        "id": "R4XbS_QIrAKL"
      },
      "source": [
        "Note que agora a soma de cada valor possível para a característica `sexo` em um dado ano é igual a 1 (que representa 100% dos dados daquele ano).\n",
        "\n",
        "Não estamos muito bem em diversidade no BTI, hein? :(\n",
        "    \n",
        "Vamos gerar um gráfico de linhas para visualizar a evolução dessa (falta de) diversidade ao longo dos anos considerados.\n",
        "\n",
        "Para isso, além da `matplotlib`, vamos precisar da bibioteca `seaborn`.\n",
        "\n",
        "Por convenção, importamos a biblioteca `seaborn` como `sns` e usamos o método `set()` para ativar suas configurações padrão."
      ]
    },
    {
      "cell_type": "code",
      "metadata": {
        "id": "X0ng11mSOOQH"
      },
      "source": [
        "import matplotlib.pyplot as plt\n",
        "import seaborn as sns\n",
        "sns.set()"
      ],
      "execution_count": 15,
      "outputs": []
    },
    {
      "cell_type": "markdown",
      "metadata": {
        "id": "W52h2sONro9B"
      },
      "source": [
        "Produzimos o gráfico de linha usando o método `lineplot`, onde devemos informar através do argumento `data` os dados que pretendemos plotar.\n",
        "\n",
        "Além disso, vamos associar um nome ao gráfico de linha para poder configurar o intervalo usado no eixo y através do método `set(ylim=(início, fim))`:"
      ]
    },
    {
      "cell_type": "code",
      "metadata": {
        "id": "ZNf7wVh1HbQP",
        "outputId": "72479f79-1a6a-461d-cdab-d89165edf8f6",
        "colab": {
          "base_uri": "https://localhost:8080/",
          "height": 318
        }
      },
      "source": [
        "percentual_bti_feminino = percentual_bti[\"F\"]\n",
        "plot_bti = sns.lineplot(data=percentual_bti_feminino)\n",
        "plot_bti.set(ylim=(0,1))\n",
        "plt.xlabel(\"Ano\")\n",
        "plt.ylabel(\"Percentual\")\n",
        "plt.title(\"Discentes do sexo feminino por ano de ingresso\")"
      ],
      "execution_count": 16,
      "outputs": [
        {
          "output_type": "execute_result",
          "data": {
            "text/plain": [
              "Text(0.5, 1.0, 'Discentes do sexo feminino por ano de ingresso')"
            ]
          },
          "metadata": {},
          "execution_count": 16
        },
        {
          "output_type": "display_data",
          "data": {
            "text/plain": [
              "<Figure size 432x288 with 1 Axes>"
            ],
            "image/png": "[encoded data removed]"
          },
          "metadata": {}
        }
      ]
    },
    {
      "cell_type": "markdown",
      "metadata": {
        "id": "jw7B3yLkIYRP"
      },
      "source": [
        "## Avaliando os cursos associados ao BTI"
      ]
    },
    {
      "cell_type": "markdown",
      "metadata": {
        "id": "ismhki8Otjb4"
      },
      "source": [
        "O dado acima claramente é insatisfatório, mas precisamos analisá-lo em perspectiva.\n",
        "\n",
        "Vamos compará-lo inicialmente com cursos de segundo ciclo que se seguem ao BTI:"
      ]
    },
    {
      "cell_type": "code",
      "metadata": {
        "id": "cXuGFjLtIX0G"
      },
      "source": [
        "cursos_ti = [\"TECNOLOGIA DA INFORMAÇÃO\",\"ENGENHARIA DE SOFTWARE\",\"CIÊNCIA DA COMPUTAÇÃO\"]\n",
        "dados_ti = dados.query(f\"nome_curso in {cursos_ti}\")"
      ],
      "execution_count": 17,
      "outputs": []
    },
    {
      "cell_type": "markdown",
      "metadata": {
        "id": "INxXJyxMt9OF"
      },
      "source": [
        "Para começar, vamos conferir se os valores presentes neste dataframe respeitam as possibilidades elencadas para a característica `sexo`:"
      ]
    },
    {
      "cell_type": "code",
      "metadata": {
        "id": "44gYYgsjmy7_",
        "outputId": "7e080e5d-816f-41f8-b789-de0db7a83b9c",
        "colab": {
          "base_uri": "https://localhost:8080/"
        }
      },
      "source": [
        "dados_ti.isnull().sum()"
      ],
      "execution_count": 18,
      "outputs": [
        {
          "output_type": "execute_result",
          "data": {
            "text/plain": [
              "matricula               0\n",
              "nome_discente           0\n",
              "sexo                    0\n",
              "ano_ingresso            0\n",
              "periodo_ingresso        0\n",
              "forma_ingresso          0\n",
              "tipo_discente           0\n",
              "status                  0\n",
              "sigla_nivel_ensino      0\n",
              "nivel_ensino            0\n",
              "id_curso                0\n",
              "nome_curso              0\n",
              "modalidade_educacao     0\n",
              "id_unidade              0\n",
              "nome_unidade            0\n",
              "id_unidade_gestora      0\n",
              "nome_unidade_gestora    0\n",
              "dtype: int64"
            ]
          },
          "metadata": {},
          "execution_count": 18
        }
      ]
    },
    {
      "cell_type": "code",
      "metadata": {
        "id": "0GJY2f1nIu1S",
        "outputId": "a85bd1b0-c65b-4ad5-f14d-cc15e81ac5d7",
        "colab": {
          "base_uri": "https://localhost:8080/"
        }
      },
      "source": [
        "dados_ti.sexo.unique()"
      ],
      "execution_count": 19,
      "outputs": [
        {
          "output_type": "execute_result",
          "data": {
            "text/plain": [
              "array(['M', 'F'], dtype=object)"
            ]
          },
          "metadata": {},
          "execution_count": 19
        }
      ]
    },
    {
      "cell_type": "markdown",
      "metadata": {
        "id": "WWVmJRNfuGqh"
      },
      "source": [
        "Agora podemos calcular os valores absolutos e relativos para cada um desses cursos:"
      ]
    },
    {
      "cell_type": "code",
      "metadata": {
        "id": "kdxcsd4dIyZM",
        "outputId": "07eae51e-e141-43bb-a0bf-a7a2c19bb95d",
        "colab": {
          "base_uri": "https://localhost:8080/"
        }
      },
      "source": [
        "agregado_ti = dados_ti.groupby(['nome_curso','ano_ingresso','sexo']).size()\n",
        "agregado_ti"
      ],
      "execution_count": 20,
      "outputs": [
        {
          "output_type": "execute_result",
          "data": {
            "text/plain": [
              "nome_curso                ano_ingresso  sexo\n",
              "CIÊNCIA DA COMPUTAÇÃO     2016          F         1\n",
              "                                        M         3\n",
              "                          2017          F         3\n",
              "                                        M        11\n",
              "                          2018          F         6\n",
              "                                        M        21\n",
              "                          2019          M        11\n",
              "ENGENHARIA DE SOFTWARE    2016          F         1\n",
              "                                        M         5\n",
              "                          2017          F         3\n",
              "                                        M        13\n",
              "                          2018          F         2\n",
              "                                        M        26\n",
              "                          2019          F         6\n",
              "                                        M        21\n",
              "TECNOLOGIA DA INFORMAÇÃO  2014          F        28\n",
              "                                        M       246\n",
              "                          2015          F        39\n",
              "                                        M       294\n",
              "                          2016          F        31\n",
              "                                        M       318\n",
              "                          2017          F        28\n",
              "                                        M       303\n",
              "                          2018          F        45\n",
              "                                        M       296\n",
              "                          2019          F        35\n",
              "                                        M       314\n",
              "dtype: int64"
            ]
          },
          "metadata": {},
          "execution_count": 20
        }
      ]
    },
    {
      "cell_type": "code",
      "metadata": {
        "id": "SxQo1ttVMoQJ",
        "outputId": "fc88e3c4-a167-472e-af87-5564eb0ddce1",
        "colab": {
          "base_uri": "https://localhost:8080/",
          "height": 520
        }
      },
      "source": [
        "percentual_ti = pd.crosstab([dados_ti['nome_curso'], dados_ti['ano_ingresso']], dados_ti['sexo'], normalize=\"index\")\n",
        "percentual_ti"
      ],
      "execution_count": 21,
      "outputs": [
        {
          "output_type": "execute_result",
          "data": {
            "text/plain": [
              "sexo                                          F         M\n",
              "nome_curso               ano_ingresso                    \n",
              "CIÊNCIA DA COMPUTAÇÃO    2016          0.250000  0.750000\n",
              "                         2017          0.214286  0.785714\n",
              "                         2018          0.222222  0.777778\n",
              "                         2019          0.000000  1.000000\n",
              "ENGENHARIA DE SOFTWARE   2016          0.166667  0.833333\n",
              "                         2017          0.187500  0.812500\n",
              "                         2018          0.071429  0.928571\n",
              "                         2019          0.222222  0.777778\n",
              "TECNOLOGIA DA INFORMAÇÃO 2014          0.102190  0.897810\n",
              "                         2015          0.117117  0.882883\n",
              "                         2016          0.088825  0.911175\n",
              "                         2017          0.084592  0.915408\n",
              "                         2018          0.131965  0.868035\n",
              "                         2019          0.100287  0.899713"
            ],
            "text/html": [
              "\n",
              "  <div id=\"df-e5c4792a-c83d-4f02-8fb4-b5eca535cdd1\">\n",
              "    <div class=\"colab-df-container\">\n",
              "      <div>\n",
              "<style scoped>\n",
              "    .dataframe tbody tr th:only-of-type {\n",
              "        vertical-align: middle;\n",
              "    }\n",
              "\n",
              "    .dataframe tbody tr th {\n",
              "        vertical-align: top;\n",
              "    }\n",
              "\n",
              "    .dataframe thead th {\n",
              "        text-align: right;\n",
              "    }\n",
              "</style>\n",
              "<table border=\"1\" class=\"dataframe\">\n",
              "  <thead>\n",
              "    <tr style=\"text-align: right;\">\n",
              "      <th></th>\n",
              "      <th>sexo</th>\n",
              "      <th>F</th>\n",
              "      <th>M</th>\n",
              "    </tr>\n",
              "    <tr>\n",
              "      <th>nome_curso</th>\n",
              "      <th>ano_ingresso</th>\n",
              "      <th></th>\n",
              "      <th></th>\n",
              "    </tr>\n",
              "  </thead>\n",
              "  <tbody>\n",
              "    <tr>\n",
              "      <th rowspan=\"4\" valign=\"top\">CIÊNCIA DA COMPUTAÇÃO</th>\n",
              "      <th>2016</th>\n",
              "      <td>0.250000</td>\n",
              "      <td>0.750000</td>\n",
              "    </tr>\n",
              "    <tr>\n",
              "      <th>2017</th>\n",
              "      <td>0.214286</td>\n",
              "      <td>0.785714</td>\n",
              "    </tr>\n",
              "    <tr>\n",
              "      <th>2018</th>\n",
              "      <td>0.222222</td>\n",
              "      <td>0.777778</td>\n",
              "    </tr>\n",
              "    <tr>\n",
              "      <th>2019</th>\n",
              "      <td>0.000000</td>\n",
              "      <td>1.000000</td>\n",
              "    </tr>\n",
              "    <tr>\n",
              "      <th rowspan=\"4\" valign=\"top\">ENGENHARIA DE SOFTWARE</th>\n",
              "      <th>2016</th>\n",
              "      <td>0.166667</td>\n",
              "      <td>0.833333</td>\n",
              "    </tr>\n",
              "    <tr>\n",
              "      <th>2017</th>\n",
              "      <td>0.187500</td>\n",
              "      <td>0.812500</td>\n",
              "    </tr>\n",
              "    <tr>\n",
              "      <th>2018</th>\n",
              "      <td>0.071429</td>\n",
              "      <td>0.928571</td>\n",
              "    </tr>\n",
              "    <tr>\n",
              "      <th>2019</th>\n",
              "      <td>0.222222</td>\n",
              "      <td>0.777778</td>\n",
              "    </tr>\n",
              "    <tr>\n",
              "      <th rowspan=\"6\" valign=\"top\">TECNOLOGIA DA INFORMAÇÃO</th>\n",
              "      <th>2014</th>\n",
              "      <td>0.102190</td>\n",
              "      <td>0.897810</td>\n",
              "    </tr>\n",
              "    <tr>\n",
              "      <th>2015</th>\n",
              "      <td>0.117117</td>\n",
              "      <td>0.882883</td>\n",
              "    </tr>\n",
              "    <tr>\n",
              "      <th>2016</th>\n",
              "      <td>0.088825</td>\n",
              "      <td>0.911175</td>\n",
              "    </tr>\n",
              "    <tr>\n",
              "      <th>2017</th>\n",
              "      <td>0.084592</td>\n",
              "      <td>0.915408</td>\n",
              "    </tr>\n",
              "    <tr>\n",
              "      <th>2018</th>\n",
              "      <td>0.131965</td>\n",
              "      <td>0.868035</td>\n",
              "    </tr>\n",
              "    <tr>\n",
              "      <th>2019</th>\n",
              "      <td>0.100287</td>\n",
              "      <td>0.899713</td>\n",
              "    </tr>\n",
              "  </tbody>\n",
              "</table>\n",
              "</div>\n",
              "      <button class=\"colab-df-convert\" onclick=\"convertToInteractive('df-e5c4792a-c83d-4f02-8fb4-b5eca535cdd1')\"\n",
              "              title=\"Convert this dataframe to an interactive table.\"\n",
              "              style=\"display:none;\">\n",
              "        \n",
              "  <svg xmlns=\"http://www.w3.org/2000/svg\" height=\"24px\"viewBox=\"0 0 24 24\"\n",
              "       width=\"24px\">\n",
              "    <path d=\"M0 0h24v24H0V0z\" fill=\"none\"/>\n",
              "    <path d=\"M18.56 5.44l.94 2.06.94-2.06 2.06-.94-2.06-.94-.94-2.06-.94 2.06-2.06.94zm-11 1L8.5 8.5l.94-2.06 2.06-.94-2.06-.94L8.5 2.5l-.94 2.06-2.06.94zm10 10l.94 2.06.94-2.06 2.06-.94-2.06-.94-.94-2.06-.94 2.06-2.06.94z\"/><path d=\"M17.41 7.96l-1.37-1.37c-.4-.4-.92-.59-1.43-.59-.52 0-1.04.2-1.43.59L10.3 9.45l-7.72 7.72c-.78.78-.78 2.05 0 2.83L4 21.41c.39.39.9.59 1.41.59.51 0 1.02-.2 1.41-.59l7.78-7.78 2.81-2.81c.8-.78.8-2.07 0-2.86zM5.41 20L4 18.59l7.72-7.72 1.47 1.35L5.41 20z\"/>\n",
              "  </svg>\n",
              "      </button>\n",
              "      \n",
              "  <style>\n",
              "    .colab-df-container {\n",
              "      display:flex;\n",
              "      flex-wrap:wrap;\n",
              "      gap: 12px;\n",
              "    }\n",
              "\n",
              "    .colab-df-convert {\n",
              "      background-color: #E8F0FE;\n",
              "      border: none;\n",
              "      border-radius: 50%;\n",
              "      cursor: pointer;\n",
              "      display: none;\n",
              "      fill: #1967D2;\n",
              "      height: 32px;\n",
              "      padding: 0 0 0 0;\n",
              "      width: 32px;\n",
              "    }\n",
              "\n",
              "    .colab-df-convert:hover {\n",
              "      background-color: #E2EBFA;\n",
              "      box-shadow: 0px 1px 2px rgba(60, 64, 67, 0.3), 0px 1px 3px 1px rgba(60, 64, 67, 0.15);\n",
              "      fill: #174EA6;\n",
              "    }\n",
              "\n",
              "    [theme=dark] .colab-df-convert {\n",
              "      background-color: #3B4455;\n",
              "      fill: #D2E3FC;\n",
              "    }\n",
              "\n",
              "    [theme=dark] .colab-df-convert:hover {\n",
              "      background-color: #434B5C;\n",
              "      box-shadow: 0px 1px 3px 1px rgba(0, 0, 0, 0.15);\n",
              "      filter: drop-shadow(0px 1px 2px rgba(0, 0, 0, 0.3));\n",
              "      fill: #FFFFFF;\n",
              "    }\n",
              "  </style>\n",
              "\n",
              "      <script>\n",
              "        const buttonEl =\n",
              "          document.querySelector('#df-e5c4792a-c83d-4f02-8fb4-b5eca535cdd1 button.colab-df-convert');\n",
              "        buttonEl.style.display =\n",
              "          google.colab.kernel.accessAllowed ? 'block' : 'none';\n",
              "\n",
              "        async function convertToInteractive(key) {\n",
              "          const element = document.querySelector('#df-e5c4792a-c83d-4f02-8fb4-b5eca535cdd1');\n",
              "          const dataTable =\n",
              "            await google.colab.kernel.invokeFunction('convertToInteractive',\n",
              "                                                     [key], {});\n",
              "          if (!dataTable) return;\n",
              "\n",
              "          const docLinkHtml = 'Like what you see? Visit the ' +\n",
              "            '<a target=\"_blank\" href=https://colab.research.google.com/notebooks/data_table.ipynb>data table notebook</a>'\n",
              "            + ' to learn more about interactive tables.';\n",
              "          element.innerHTML = '';\n",
              "          dataTable['output_type'] = 'display_data';\n",
              "          await google.colab.output.renderOutput(dataTable, element);\n",
              "          const docLink = document.createElement('div');\n",
              "          docLink.innerHTML = docLinkHtml;\n",
              "          element.appendChild(docLink);\n",
              "        }\n",
              "      </script>\n",
              "    </div>\n",
              "  </div>\n",
              "  "
            ]
          },
          "metadata": {},
          "execution_count": 21
        }
      ]
    },
    {
      "cell_type": "markdown",
      "metadata": {
        "id": "IJKhJ01Mu44J"
      },
      "source": [
        "Note que para os cursos de ciência da computação e engenharia de software, não há dados para os anos de 2014 e 2015. \n",
        "\n",
        "Além disso, não houve ingresso de discentes do sexo feminino em ciência da computação no ano de 2019.\n",
        "\n",
        "Vamos então considerar os dados para o sexo masculino a partir de 2016:"
      ]
    },
    {
      "cell_type": "code",
      "metadata": {
        "id": "yd6TKc9rMQ6A",
        "outputId": "a35f07fc-0524-4933-d87e-995d0d089ff0",
        "colab": {
          "base_uri": "https://localhost:8080/"
        }
      },
      "source": [
        "percentual_ti_masculino = percentual_ti.query(\"ano_ingresso >= 2016\")[\"M\"]\n",
        "percentual_ti_masculino"
      ],
      "execution_count": 22,
      "outputs": [
        {
          "output_type": "execute_result",
          "data": {
            "text/plain": [
              "nome_curso                ano_ingresso\n",
              "CIÊNCIA DA COMPUTAÇÃO     2016            0.750000\n",
              "                          2017            0.785714\n",
              "                          2018            0.777778\n",
              "                          2019            1.000000\n",
              "ENGENHARIA DE SOFTWARE    2016            0.833333\n",
              "                          2017            0.812500\n",
              "                          2018            0.928571\n",
              "                          2019            0.777778\n",
              "TECNOLOGIA DA INFORMAÇÃO  2016            0.911175\n",
              "                          2017            0.915408\n",
              "                          2018            0.868035\n",
              "                          2019            0.899713\n",
              "Name: M, dtype: float64"
            ]
          },
          "metadata": {},
          "execution_count": 22
        }
      ]
    },
    {
      "cell_type": "markdown",
      "metadata": {
        "id": "GvXqBsa5wJo_"
      },
      "source": [
        "Uma série produzida a partir de um agrupamento de múltiplas características apresenta um índice hierárquico.\n",
        "\n",
        "O Pandas permite converter uma série assim em um dataframe usando o método `reset_index()`.\n",
        "\n",
        "Os nomes das colunas são reutilizados do índice hierárquico. A última coluna pode ser nomeada usando o argumento `name`):"
      ]
    },
    {
      "cell_type": "code",
      "metadata": {
        "id": "KC7RI3pvvgIA",
        "outputId": "9fdf9c18-76d7-4900-df59-28fb28ca1889",
        "colab": {
          "base_uri": "https://localhost:8080/",
          "height": 426
        }
      },
      "source": [
        "dados_ti_masculino = percentual_ti_masculino.reset_index(name=\"total\")\n",
        "dados_ti_masculino"
      ],
      "execution_count": 23,
      "outputs": [
        {
          "output_type": "execute_result",
          "data": {
            "text/plain": [
              "                  nome_curso  ano_ingresso     total\n",
              "0      CIÊNCIA DA COMPUTAÇÃO          2016  0.750000\n",
              "1      CIÊNCIA DA COMPUTAÇÃO          2017  0.785714\n",
              "2      CIÊNCIA DA COMPUTAÇÃO          2018  0.777778\n",
              "3      CIÊNCIA DA COMPUTAÇÃO          2019  1.000000\n",
              "4     ENGENHARIA DE SOFTWARE          2016  0.833333\n",
              "5     ENGENHARIA DE SOFTWARE          2017  0.812500\n",
              "6     ENGENHARIA DE SOFTWARE          2018  0.928571\n",
              "7     ENGENHARIA DE SOFTWARE          2019  0.777778\n",
              "8   TECNOLOGIA DA INFORMAÇÃO          2016  0.911175\n",
              "9   TECNOLOGIA DA INFORMAÇÃO          2017  0.915408\n",
              "10  TECNOLOGIA DA INFORMAÇÃO          2018  0.868035\n",
              "11  TECNOLOGIA DA INFORMAÇÃO          2019  0.899713"
            ],
            "text/html": [
              "\n",
              "  <div id=\"df-492bb79d-10ea-4bbb-b3a5-f9cf1c8ae655\">\n",
              "    <div class=\"colab-df-container\">\n",
              "      <div>\n",
              "<style scoped>\n",
              "    .dataframe tbody tr th:only-of-type {\n",
              "        vertical-align: middle;\n",
              "    }\n",
              "\n",
              "    .dataframe tbody tr th {\n",
              "        vertical-align: top;\n",
              "    }\n",
              "\n",
              "    .dataframe thead th {\n",
              "        text-align: right;\n",
              "    }\n",
              "</style>\n",
              "<table border=\"1\" class=\"dataframe\">\n",
              "  <thead>\n",
              "    <tr style=\"text-align: right;\">\n",
              "      <th></th>\n",
              "      <th>nome_curso</th>\n",
              "      <th>ano_ingresso</th>\n",
              "      <th>total</th>\n",
              "    </tr>\n",
              "  </thead>\n",
              "  <tbody>\n",
              "    <tr>\n",
              "      <th>0</th>\n",
              "      <td>CIÊNCIA DA COMPUTAÇÃO</td>\n",
              "      <td>2016</td>\n",
              "      <td>0.750000</td>\n",
              "    </tr>\n",
              "    <tr>\n",
              "      <th>1</th>\n",
              "      <td>CIÊNCIA DA COMPUTAÇÃO</td>\n",
              "      <td>2017</td>\n",
              "      <td>0.785714</td>\n",
              "    </tr>\n",
              "    <tr>\n",
              "      <th>2</th>\n",
              "      <td>CIÊNCIA DA COMPUTAÇÃO</td>\n",
              "      <td>2018</td>\n",
              "      <td>0.777778</td>\n",
              "    </tr>\n",
              "    <tr>\n",
              "      <th>3</th>\n",
              "      <td>CIÊNCIA DA COMPUTAÇÃO</td>\n",
              "      <td>2019</td>\n",
              "      <td>1.000000</td>\n",
              "    </tr>\n",
              "    <tr>\n",
              "      <th>4</th>\n",
              "      <td>ENGENHARIA DE SOFTWARE</td>\n",
              "      <td>2016</td>\n",
              "      <td>0.833333</td>\n",
              "    </tr>\n",
              "    <tr>\n",
              "      <th>5</th>\n",
              "      <td>ENGENHARIA DE SOFTWARE</td>\n",
              "      <td>2017</td>\n",
              "      <td>0.812500</td>\n",
              "    </tr>\n",
              "    <tr>\n",
              "      <th>6</th>\n",
              "      <td>ENGENHARIA DE SOFTWARE</td>\n",
              "      <td>2018</td>\n",
              "      <td>0.928571</td>\n",
              "    </tr>\n",
              "    <tr>\n",
              "      <th>7</th>\n",
              "      <td>ENGENHARIA DE SOFTWARE</td>\n",
              "      <td>2019</td>\n",
              "      <td>0.777778</td>\n",
              "    </tr>\n",
              "    <tr>\n",
              "      <th>8</th>\n",
              "      <td>TECNOLOGIA DA INFORMAÇÃO</td>\n",
              "      <td>2016</td>\n",
              "      <td>0.911175</td>\n",
              "    </tr>\n",
              "    <tr>\n",
              "      <th>9</th>\n",
              "      <td>TECNOLOGIA DA INFORMAÇÃO</td>\n",
              "      <td>2017</td>\n",
              "      <td>0.915408</td>\n",
              "    </tr>\n",
              "    <tr>\n",
              "      <th>10</th>\n",
              "      <td>TECNOLOGIA DA INFORMAÇÃO</td>\n",
              "      <td>2018</td>\n",
              "      <td>0.868035</td>\n",
              "    </tr>\n",
              "    <tr>\n",
              "      <th>11</th>\n",
              "      <td>TECNOLOGIA DA INFORMAÇÃO</td>\n",
              "      <td>2019</td>\n",
              "      <td>0.899713</td>\n",
              "    </tr>\n",
              "  </tbody>\n",
              "</table>\n",
              "</div>\n",
              "      <button class=\"colab-df-convert\" onclick=\"convertToInteractive('df-492bb79d-10ea-4bbb-b3a5-f9cf1c8ae655')\"\n",
              "              title=\"Convert this dataframe to an interactive table.\"\n",
              "              style=\"display:none;\">\n",
              "        \n",
              "  <svg xmlns=\"http://www.w3.org/2000/svg\" height=\"24px\"viewBox=\"0 0 24 24\"\n",
              "       width=\"24px\">\n",
              "    <path d=\"M0 0h24v24H0V0z\" fill=\"none\"/>\n",
              "    <path d=\"M18.56 5.44l.94 2.06.94-2.06 2.06-.94-2.06-.94-.94-2.06-.94 2.06-2.06.94zm-11 1L8.5 8.5l.94-2.06 2.06-.94-2.06-.94L8.5 2.5l-.94 2.06-2.06.94zm10 10l.94 2.06.94-2.06 2.06-.94-2.06-.94-.94-2.06-.94 2.06-2.06.94z\"/><path d=\"M17.41 7.96l-1.37-1.37c-.4-.4-.92-.59-1.43-.59-.52 0-1.04.2-1.43.59L10.3 9.45l-7.72 7.72c-.78.78-.78 2.05 0 2.83L4 21.41c.39.39.9.59 1.41.59.51 0 1.02-.2 1.41-.59l7.78-7.78 2.81-2.81c.8-.78.8-2.07 0-2.86zM5.41 20L4 18.59l7.72-7.72 1.47 1.35L5.41 20z\"/>\n",
              "  </svg>\n",
              "      </button>\n",
              "      \n",
              "  <style>\n",
              "    .colab-df-container {\n",
              "      display:flex;\n",
              "      flex-wrap:wrap;\n",
              "      gap: 12px;\n",
              "    }\n",
              "\n",
              "    .colab-df-convert {\n",
              "      background-color: #E8F0FE;\n",
              "      border: none;\n",
              "      border-radius: 50%;\n",
              "      cursor: pointer;\n",
              "      display: none;\n",
              "      fill: #1967D2;\n",
              "      height: 32px;\n",
              "      padding: 0 0 0 0;\n",
              "      width: 32px;\n",
              "    }\n",
              "\n",
              "    .colab-df-convert:hover {\n",
              "      background-color: #E2EBFA;\n",
              "      box-shadow: 0px 1px 2px rgba(60, 64, 67, 0.3), 0px 1px 3px 1px rgba(60, 64, 67, 0.15);\n",
              "      fill: #174EA6;\n",
              "    }\n",
              "\n",
              "    [theme=dark] .colab-df-convert {\n",
              "      background-color: #3B4455;\n",
              "      fill: #D2E3FC;\n",
              "    }\n",
              "\n",
              "    [theme=dark] .colab-df-convert:hover {\n",
              "      background-color: #434B5C;\n",
              "      box-shadow: 0px 1px 3px 1px rgba(0, 0, 0, 0.15);\n",
              "      filter: drop-shadow(0px 1px 2px rgba(0, 0, 0, 0.3));\n",
              "      fill: #FFFFFF;\n",
              "    }\n",
              "  </style>\n",
              "\n",
              "      <script>\n",
              "        const buttonEl =\n",
              "          document.querySelector('#df-492bb79d-10ea-4bbb-b3a5-f9cf1c8ae655 button.colab-df-convert');\n",
              "        buttonEl.style.display =\n",
              "          google.colab.kernel.accessAllowed ? 'block' : 'none';\n",
              "\n",
              "        async function convertToInteractive(key) {\n",
              "          const element = document.querySelector('#df-492bb79d-10ea-4bbb-b3a5-f9cf1c8ae655');\n",
              "          const dataTable =\n",
              "            await google.colab.kernel.invokeFunction('convertToInteractive',\n",
              "                                                     [key], {});\n",
              "          if (!dataTable) return;\n",
              "\n",
              "          const docLinkHtml = 'Like what you see? Visit the ' +\n",
              "            '<a target=\"_blank\" href=https://colab.research.google.com/notebooks/data_table.ipynb>data table notebook</a>'\n",
              "            + ' to learn more about interactive tables.';\n",
              "          element.innerHTML = '';\n",
              "          dataTable['output_type'] = 'display_data';\n",
              "          await google.colab.output.renderOutput(dataTable, element);\n",
              "          const docLink = document.createElement('div');\n",
              "          docLink.innerHTML = docLinkHtml;\n",
              "          element.appendChild(docLink);\n",
              "        }\n",
              "      </script>\n",
              "    </div>\n",
              "  </div>\n",
              "  "
            ]
          },
          "metadata": {},
          "execution_count": 23
        }
      ]
    },
    {
      "cell_type": "markdown",
      "metadata": {
        "id": "qjnYskUFx8wk"
      },
      "source": [
        "Com os dados organizados, podemos agora calcular a média de participação masculina nos cursos associados ao BTI considerando o período 2016-2019:"
      ]
    },
    {
      "cell_type": "code",
      "metadata": {
        "id": "RmxJydOQ6z1C",
        "outputId": "432bc81b-93e7-42cd-f5be-8b8373ec9111",
        "colab": {
          "base_uri": "https://localhost:8080/",
          "height": 175
        }
      },
      "source": [
        "dados_ti_masculino.groupby(\"nome_curso\").mean()"
      ],
      "execution_count": 24,
      "outputs": [
        {
          "output_type": "execute_result",
          "data": {
            "text/plain": [
              "                          ano_ingresso     total\n",
              "nome_curso                                      \n",
              "CIÊNCIA DA COMPUTAÇÃO           2017.5  0.828373\n",
              "ENGENHARIA DE SOFTWARE          2017.5  0.838046\n",
              "TECNOLOGIA DA INFORMAÇÃO        2017.5  0.898583"
            ],
            "text/html": [
              "\n",
              "  <div id=\"df-9741aebd-013b-4aac-8d95-1d8e742304dd\">\n",
              "    <div class=\"colab-df-container\">\n",
              "      <div>\n",
              "<style scoped>\n",
              "    .dataframe tbody tr th:only-of-type {\n",
              "        vertical-align: middle;\n",
              "    }\n",
              "\n",
              "    .dataframe tbody tr th {\n",
              "        vertical-align: top;\n",
              "    }\n",
              "\n",
              "    .dataframe thead th {\n",
              "        text-align: right;\n",
              "    }\n",
              "</style>\n",
              "<table border=\"1\" class=\"dataframe\">\n",
              "  <thead>\n",
              "    <tr style=\"text-align: right;\">\n",
              "      <th></th>\n",
              "      <th>ano_ingresso</th>\n",
              "      <th>total</th>\n",
              "    </tr>\n",
              "    <tr>\n",
              "      <th>nome_curso</th>\n",
              "      <th></th>\n",
              "      <th></th>\n",
              "    </tr>\n",
              "  </thead>\n",
              "  <tbody>\n",
              "    <tr>\n",
              "      <th>CIÊNCIA DA COMPUTAÇÃO</th>\n",
              "      <td>2017.5</td>\n",
              "      <td>0.828373</td>\n",
              "    </tr>\n",
              "    <tr>\n",
              "      <th>ENGENHARIA DE SOFTWARE</th>\n",
              "      <td>2017.5</td>\n",
              "      <td>0.838046</td>\n",
              "    </tr>\n",
              "    <tr>\n",
              "      <th>TECNOLOGIA DA INFORMAÇÃO</th>\n",
              "      <td>2017.5</td>\n",
              "      <td>0.898583</td>\n",
              "    </tr>\n",
              "  </tbody>\n",
              "</table>\n",
              "</div>\n",
              "      <button class=\"colab-df-convert\" onclick=\"convertToInteractive('df-9741aebd-013b-4aac-8d95-1d8e742304dd')\"\n",
              "              title=\"Convert this dataframe to an interactive table.\"\n",
              "              style=\"display:none;\">\n",
              "        \n",
              "  <svg xmlns=\"http://www.w3.org/2000/svg\" height=\"24px\"viewBox=\"0 0 24 24\"\n",
              "       width=\"24px\">\n",
              "    <path d=\"M0 0h24v24H0V0z\" fill=\"none\"/>\n",
              "    <path d=\"M18.56 5.44l.94 2.06.94-2.06 2.06-.94-2.06-.94-.94-2.06-.94 2.06-2.06.94zm-11 1L8.5 8.5l.94-2.06 2.06-.94-2.06-.94L8.5 2.5l-.94 2.06-2.06.94zm10 10l.94 2.06.94-2.06 2.06-.94-2.06-.94-.94-2.06-.94 2.06-2.06.94z\"/><path d=\"M17.41 7.96l-1.37-1.37c-.4-.4-.92-.59-1.43-.59-.52 0-1.04.2-1.43.59L10.3 9.45l-7.72 7.72c-.78.78-.78 2.05 0 2.83L4 21.41c.39.39.9.59 1.41.59.51 0 1.02-.2 1.41-.59l7.78-7.78 2.81-2.81c.8-.78.8-2.07 0-2.86zM5.41 20L4 18.59l7.72-7.72 1.47 1.35L5.41 20z\"/>\n",
              "  </svg>\n",
              "      </button>\n",
              "      \n",
              "  <style>\n",
              "    .colab-df-container {\n",
              "      display:flex;\n",
              "      flex-wrap:wrap;\n",
              "      gap: 12px;\n",
              "    }\n",
              "\n",
              "    .colab-df-convert {\n",
              "      background-color: #E8F0FE;\n",
              "      border: none;\n",
              "      border-radius: 50%;\n",
              "      cursor: pointer;\n",
              "      display: none;\n",
              "      fill: #1967D2;\n",
              "      height: 32px;\n",
              "      padding: 0 0 0 0;\n",
              "      width: 32px;\n",
              "    }\n",
              "\n",
              "    .colab-df-convert:hover {\n",
              "      background-color: #E2EBFA;\n",
              "      box-shadow: 0px 1px 2px rgba(60, 64, 67, 0.3), 0px 1px 3px 1px rgba(60, 64, 67, 0.15);\n",
              "      fill: #174EA6;\n",
              "    }\n",
              "\n",
              "    [theme=dark] .colab-df-convert {\n",
              "      background-color: #3B4455;\n",
              "      fill: #D2E3FC;\n",
              "    }\n",
              "\n",
              "    [theme=dark] .colab-df-convert:hover {\n",
              "      background-color: #434B5C;\n",
              "      box-shadow: 0px 1px 3px 1px rgba(0, 0, 0, 0.15);\n",
              "      filter: drop-shadow(0px 1px 2px rgba(0, 0, 0, 0.3));\n",
              "      fill: #FFFFFF;\n",
              "    }\n",
              "  </style>\n",
              "\n",
              "      <script>\n",
              "        const buttonEl =\n",
              "          document.querySelector('#df-9741aebd-013b-4aac-8d95-1d8e742304dd button.colab-df-convert');\n",
              "        buttonEl.style.display =\n",
              "          google.colab.kernel.accessAllowed ? 'block' : 'none';\n",
              "\n",
              "        async function convertToInteractive(key) {\n",
              "          const element = document.querySelector('#df-9741aebd-013b-4aac-8d95-1d8e742304dd');\n",
              "          const dataTable =\n",
              "            await google.colab.kernel.invokeFunction('convertToInteractive',\n",
              "                                                     [key], {});\n",
              "          if (!dataTable) return;\n",
              "\n",
              "          const docLinkHtml = 'Like what you see? Visit the ' +\n",
              "            '<a target=\"_blank\" href=https://colab.research.google.com/notebooks/data_table.ipynb>data table notebook</a>'\n",
              "            + ' to learn more about interactive tables.';\n",
              "          element.innerHTML = '';\n",
              "          dataTable['output_type'] = 'display_data';\n",
              "          await google.colab.output.renderOutput(dataTable, element);\n",
              "          const docLink = document.createElement('div');\n",
              "          docLink.innerHTML = docLinkHtml;\n",
              "          element.appendChild(docLink);\n",
              "        }\n",
              "      </script>\n",
              "    </div>\n",
              "  </div>\n",
              "  "
            ]
          },
          "metadata": {},
          "execution_count": 24
        }
      ]
    },
    {
      "cell_type": "markdown",
      "metadata": {
        "id": "1l7_6VXVyH3K"
      },
      "source": [
        "Note que também está sendo calculada a média da coluna `ano_ingresso`.\n",
        "\n",
        "Isso acontece porque, ao ler os datasets da UFRN, o Pandas entendeu que deveria configurar esta coluna como numérica.\n",
        "\n",
        "Se quisermos impedir isso, devemos solicitar ao Pandas que trate essa coluna como uma característica ordinal:"
      ]
    },
    {
      "cell_type": "code",
      "metadata": {
        "id": "NJBxvMreRd_k",
        "outputId": "f02984d3-62ac-4642-e918-b130ad97887c",
        "colab": {
          "base_uri": "https://localhost:8080/",
          "height": 175
        }
      },
      "source": [
        "dados_ti_masculino.ano_ingresso = dados_ti_masculino.ano_ingresso.astype(str)\n",
        "dados_ti_masculino.groupby(\"nome_curso\").mean()"
      ],
      "execution_count": 25,
      "outputs": [
        {
          "output_type": "execute_result",
          "data": {
            "text/plain": [
              "                             total\n",
              "nome_curso                        \n",
              "CIÊNCIA DA COMPUTAÇÃO     0.828373\n",
              "ENGENHARIA DE SOFTWARE    0.838046\n",
              "TECNOLOGIA DA INFORMAÇÃO  0.898583"
            ],
            "text/html": [
              "\n",
              "  <div id=\"df-2864d8f8-48aa-43cd-86e7-a56f0f3a3014\">\n",
              "    <div class=\"colab-df-container\">\n",
              "      <div>\n",
              "<style scoped>\n",
              "    .dataframe tbody tr th:only-of-type {\n",
              "        vertical-align: middle;\n",
              "    }\n",
              "\n",
              "    .dataframe tbody tr th {\n",
              "        vertical-align: top;\n",
              "    }\n",
              "\n",
              "    .dataframe thead th {\n",
              "        text-align: right;\n",
              "    }\n",
              "</style>\n",
              "<table border=\"1\" class=\"dataframe\">\n",
              "  <thead>\n",
              "    <tr style=\"text-align: right;\">\n",
              "      <th></th>\n",
              "      <th>total</th>\n",
              "    </tr>\n",
              "    <tr>\n",
              "      <th>nome_curso</th>\n",
              "      <th></th>\n",
              "    </tr>\n",
              "  </thead>\n",
              "  <tbody>\n",
              "    <tr>\n",
              "      <th>CIÊNCIA DA COMPUTAÇÃO</th>\n",
              "      <td>0.828373</td>\n",
              "    </tr>\n",
              "    <tr>\n",
              "      <th>ENGENHARIA DE SOFTWARE</th>\n",
              "      <td>0.838046</td>\n",
              "    </tr>\n",
              "    <tr>\n",
              "      <th>TECNOLOGIA DA INFORMAÇÃO</th>\n",
              "      <td>0.898583</td>\n",
              "    </tr>\n",
              "  </tbody>\n",
              "</table>\n",
              "</div>\n",
              "      <button class=\"colab-df-convert\" onclick=\"convertToInteractive('df-2864d8f8-48aa-43cd-86e7-a56f0f3a3014')\"\n",
              "              title=\"Convert this dataframe to an interactive table.\"\n",
              "              style=\"display:none;\">\n",
              "        \n",
              "  <svg xmlns=\"http://www.w3.org/2000/svg\" height=\"24px\"viewBox=\"0 0 24 24\"\n",
              "       width=\"24px\">\n",
              "    <path d=\"M0 0h24v24H0V0z\" fill=\"none\"/>\n",
              "    <path d=\"M18.56 5.44l.94 2.06.94-2.06 2.06-.94-2.06-.94-.94-2.06-.94 2.06-2.06.94zm-11 1L8.5 8.5l.94-2.06 2.06-.94-2.06-.94L8.5 2.5l-.94 2.06-2.06.94zm10 10l.94 2.06.94-2.06 2.06-.94-2.06-.94-.94-2.06-.94 2.06-2.06.94z\"/><path d=\"M17.41 7.96l-1.37-1.37c-.4-.4-.92-.59-1.43-.59-.52 0-1.04.2-1.43.59L10.3 9.45l-7.72 7.72c-.78.78-.78 2.05 0 2.83L4 21.41c.39.39.9.59 1.41.59.51 0 1.02-.2 1.41-.59l7.78-7.78 2.81-2.81c.8-.78.8-2.07 0-2.86zM5.41 20L4 18.59l7.72-7.72 1.47 1.35L5.41 20z\"/>\n",
              "  </svg>\n",
              "      </button>\n",
              "      \n",
              "  <style>\n",
              "    .colab-df-container {\n",
              "      display:flex;\n",
              "      flex-wrap:wrap;\n",
              "      gap: 12px;\n",
              "    }\n",
              "\n",
              "    .colab-df-convert {\n",
              "      background-color: #E8F0FE;\n",
              "      border: none;\n",
              "      border-radius: 50%;\n",
              "      cursor: pointer;\n",
              "      display: none;\n",
              "      fill: #1967D2;\n",
              "      height: 32px;\n",
              "      padding: 0 0 0 0;\n",
              "      width: 32px;\n",
              "    }\n",
              "\n",
              "    .colab-df-convert:hover {\n",
              "      background-color: #E2EBFA;\n",
              "      box-shadow: 0px 1px 2px rgba(60, 64, 67, 0.3), 0px 1px 3px 1px rgba(60, 64, 67, 0.15);\n",
              "      fill: #174EA6;\n",
              "    }\n",
              "\n",
              "    [theme=dark] .colab-df-convert {\n",
              "      background-color: #3B4455;\n",
              "      fill: #D2E3FC;\n",
              "    }\n",
              "\n",
              "    [theme=dark] .colab-df-convert:hover {\n",
              "      background-color: #434B5C;\n",
              "      box-shadow: 0px 1px 3px 1px rgba(0, 0, 0, 0.15);\n",
              "      filter: drop-shadow(0px 1px 2px rgba(0, 0, 0, 0.3));\n",
              "      fill: #FFFFFF;\n",
              "    }\n",
              "  </style>\n",
              "\n",
              "      <script>\n",
              "        const buttonEl =\n",
              "          document.querySelector('#df-2864d8f8-48aa-43cd-86e7-a56f0f3a3014 button.colab-df-convert');\n",
              "        buttonEl.style.display =\n",
              "          google.colab.kernel.accessAllowed ? 'block' : 'none';\n",
              "\n",
              "        async function convertToInteractive(key) {\n",
              "          const element = document.querySelector('#df-2864d8f8-48aa-43cd-86e7-a56f0f3a3014');\n",
              "          const dataTable =\n",
              "            await google.colab.kernel.invokeFunction('convertToInteractive',\n",
              "                                                     [key], {});\n",
              "          if (!dataTable) return;\n",
              "\n",
              "          const docLinkHtml = 'Like what you see? Visit the ' +\n",
              "            '<a target=\"_blank\" href=https://colab.research.google.com/notebooks/data_table.ipynb>data table notebook</a>'\n",
              "            + ' to learn more about interactive tables.';\n",
              "          element.innerHTML = '';\n",
              "          dataTable['output_type'] = 'display_data';\n",
              "          await google.colab.output.renderOutput(dataTable, element);\n",
              "          const docLink = document.createElement('div');\n",
              "          docLink.innerHTML = docLinkHtml;\n",
              "          element.appendChild(docLink);\n",
              "        }\n",
              "      </script>\n",
              "    </div>\n",
              "  </div>\n",
              "  "
            ]
          },
          "metadata": {},
          "execution_count": 25
        }
      ]
    },
    {
      "cell_type": "markdown",
      "metadata": {
        "id": "IZEI512Jy9To"
      },
      "source": [
        "Na média, os três cursos apresentam diversidade insatisfatória. No entanto, fica claro que os cursos de segundo ciclo apresentam uma situação menos crítica que o BTI.\n",
        "\n",
        "Vamos olhar a evolução deste fator nos três cursos usando o `lineplot()` mais uma vez.\n",
        "\n",
        "Neste exemplo, vamos configurar o tamanho do gráfico usando o método `plt.figure(figsize=(largura, altura))`."
      ]
    },
    {
      "cell_type": "code",
      "metadata": {
        "id": "4VTipaH0JW8-",
        "outputId": "6d87a4af-c185-4ab4-a3e1-f0110fbdbfe2",
        "colab": {
          "base_uri": "https://localhost:8080/",
          "height": 427
        }
      },
      "source": [
        "plt.figure(figsize=(6, 6))\n",
        "plot_it = sns.lineplot(x=\"ano_ingresso\", y=\"total\", hue=\"nome_curso\", data=dados_ti_masculino)\n",
        "plot_it.set(ylim=(0,1))\n",
        "plt.xlabel(\"Ano\")\n",
        "plt.ylabel(\"Percentual\")\n",
        "plt.title(\"Discentes do sexo masculino por ano de ingresso\")"
      ],
      "execution_count": 26,
      "outputs": [
        {
          "output_type": "execute_result",
          "data": {
            "text/plain": [
              "Text(0.5, 1.0, 'Discentes do sexo masculino por ano de ingresso')"
            ]
          },
          "metadata": {},
          "execution_count": 26
        },
        {
          "output_type": "display_data",
          "data": {
            "text/plain": [
              "<Figure size 432x432 with 1 Axes>"
            ],
            "image/png": "[encoded data removed]"
          },
          "metadata": {}
        }
      ]
    },
    {
      "cell_type": "markdown",
      "metadata": {
        "id": "j4C2-ltzE295"
      },
      "source": [
        "## Avaliando a diversidade na UFRN"
      ]
    },
    {
      "cell_type": "markdown",
      "metadata": {
        "id": "Z_h-PLrheJ8e"
      },
      "source": [
        "Como podemos ver, a diversidade nos cursos relacionados ao BTI não anda bem.\n",
        "\n",
        "Mas será que essa é a realidade mais geral da UFRN?\n",
        "\n",
        "Vamos expandir nossa análise para considerar todas as unidades acadêmicas da universidade.\n",
        "\n",
        "Novamente, começamos verificando a existência de dados faltando:"
      ]
    },
    {
      "cell_type": "code",
      "metadata": {
        "id": "Fy9WO6vBr6ug",
        "outputId": "02cfa686-9f6c-45ff-e833-5c78eba137a8",
        "colab": {
          "base_uri": "https://localhost:8080/"
        }
      },
      "source": [
        "dados.isnull().sum()"
      ],
      "execution_count": 27,
      "outputs": [
        {
          "output_type": "execute_result",
          "data": {
            "text/plain": [
              "matricula                  0\n",
              "nome_discente              0\n",
              "sexo                       0\n",
              "ano_ingresso               0\n",
              "periodo_ingresso         244\n",
              "forma_ingresso           222\n",
              "tipo_discente              0\n",
              "status                     0\n",
              "sigla_nivel_ensino         0\n",
              "nivel_ensino               0\n",
              "id_curso                8632\n",
              "nome_curso              8632\n",
              "modalidade_educacao     8632\n",
              "id_unidade              8632\n",
              "nome_unidade            8632\n",
              "id_unidade_gestora      8632\n",
              "nome_unidade_gestora    8632\n",
              "dtype: int64"
            ]
          },
          "metadata": {},
          "execution_count": 27
        }
      ]
    },
    {
      "cell_type": "markdown",
      "metadata": {
        "id": "gOLxYX-JeZtP"
      },
      "source": [
        "Quando identificamos a ausência de dados, podemos tentar preenchê-los ou descartar as observações afetadas.\n",
        "\n",
        "Pela elevada quantidade de dados faltando, tentar preencher esses dados se torna difícil.\n",
        "\n",
        "Assim, vamos optar por analisar apenas os casos em que o nome da unidade foi informada:"
      ]
    },
    {
      "cell_type": "code",
      "metadata": {
        "id": "tsvMzH5NTYrX"
      },
      "source": [
        "dados_não_nulos = dados[~dados[\"nome_unidade\"].isnull()]"
      ],
      "execution_count": 28,
      "outputs": []
    },
    {
      "cell_type": "markdown",
      "metadata": {
        "id": "Hwfitslyfp0r"
      },
      "source": [
        "Outro recorte importante é limitar nossa análise a cursos de graduação:"
      ]
    },
    {
      "cell_type": "code",
      "metadata": {
        "id": "GgCWR3dbTVMr"
      },
      "source": [
        "dados_graduação = dados_não_nulos.query(\"nivel_ensino == 'GRADUAÇÃO'\")"
      ],
      "execution_count": 29,
      "outputs": []
    },
    {
      "cell_type": "markdown",
      "metadata": {
        "id": "8ITKRLVdfwzz"
      },
      "source": [
        "Após esses filtros, vamos ver quantas unidades restaram.\n",
        "\n",
        "Podemos fazer isso usando o procedimento `len`, que conta a quantidade de elementos em uma lista:"
      ]
    },
    {
      "cell_type": "code",
      "metadata": {
        "id": "QtkVaydjTUXF",
        "outputId": "a2e33091-de46-411b-c591-f826889eefbe",
        "colab": {
          "base_uri": "https://localhost:8080/"
        }
      },
      "source": [
        "nomes_unidades = dados_graduação[\"nome_unidade\"].unique()\n",
        "len(nomes_unidades)"
      ],
      "execution_count": 30,
      "outputs": [
        {
          "output_type": "execute_result",
          "data": {
            "text/plain": [
              "16"
            ]
          },
          "metadata": {},
          "execution_count": 30
        }
      ]
    },
    {
      "cell_type": "code",
      "metadata": {
        "id": "NDyJnUIWUz-Q",
        "outputId": "227d6c17-9cf5-476f-b705-f9100b609796",
        "colab": {
          "base_uri": "https://localhost:8080/"
        }
      },
      "source": [
        "nomes_unidades"
      ],
      "execution_count": 31,
      "outputs": [
        {
          "output_type": "execute_result",
          "data": {
            "text/plain": [
              "array(['CENTRO DE  ENSINO SUPERIOR DO SERIDÓ',\n",
              "       'CENTRO DE CIÊNCIAS HUMANAS, LETRAS E ARTES',\n",
              "       'CENTRO DE CIÊNCIAS DA SAÚDE',\n",
              "       'CENTRO DE CIÊNCIAS EXATAS E DA TERRA',\n",
              "       'ESCOLA DE CIÊNCIAS E TECNOLOGIA',\n",
              "       'CENTRO DE CIÊNCIAS SOCIAIS APLICADAS',\n",
              "       'INSTITUTO METROPOLE DIGITAL',\n",
              "       'FACULDADE DE CIÊNCIAS DA SAÚDE DO TRAIRI - FACISA',\n",
              "       'CENTRO DE EDUCAÇÃO', 'ESCOLA DE MÚSICA', 'CENTRO DE TECNOLOGIA',\n",
              "       'CENTRO DE BIOCIÊNCIAS', 'ESCOLA AGRÍCOLA DE JUNDIAÍ',\n",
              "       'ESCOLA DE SAÚDE',\n",
              "       'ESCOLA MULTICAMPI DE CIÊNCIAS MÉDICAS DO RIO GRANDE DO NORTE',\n",
              "       'FACULDADE DE ENGENHARIA, LETRAS E CIÊNCIAS SOCIAIS DO SERIDÓ - FELCS'],\n",
              "      dtype=object)"
            ]
          },
          "metadata": {},
          "execution_count": 31
        }
      ]
    },
    {
      "cell_type": "markdown",
      "metadata": {
        "id": "chNqj7BJf9kd"
      },
      "source": [
        "Ainda no etapa de validação de dados, vamos ver se há dados inválidos na característica `sexo`.\n",
        "\n",
        "Podemos fazer isso usando o procedimento `all(condição)`, que avalia se não houve quebra da condição informada: "
      ]
    },
    {
      "cell_type": "code",
      "metadata": {
        "id": "1SqTLFqPgUPy",
        "outputId": "57df896b-31cf-448a-a52a-976e6d52ca30",
        "colab": {
          "base_uri": "https://localhost:8080/"
        }
      },
      "source": [
        "condição_sexo = dados_graduação[\"sexo\"].isin([\"M\",\"F\"])\n",
        "all(condição_sexo)"
      ],
      "execution_count": 32,
      "outputs": [
        {
          "output_type": "execute_result",
          "data": {
            "text/plain": [
              "False"
            ]
          },
          "metadata": {},
          "execution_count": 32
        }
      ]
    },
    {
      "cell_type": "markdown",
      "metadata": {
        "id": "v5_YLmA3gzd2"
      },
      "source": [
        "Mantemos, então, apenas as entradas válidas:"
      ]
    },
    {
      "cell_type": "code",
      "metadata": {
        "id": "IonSBmUHgcZy"
      },
      "source": [
        "dados_graduação = dados_graduação[condição_sexo]"
      ],
      "execution_count": 33,
      "outputs": []
    },
    {
      "cell_type": "markdown",
      "metadata": {
        "id": "OzgpWgI1g65r"
      },
      "source": [
        "Baseado nas experiências anteriores, qual o próximo passo em nossa análise?"
      ]
    },
    {
      "cell_type": "code",
      "metadata": {
        "id": "6EGYLOc6TTYm",
        "outputId": "460efc53-fc9a-40bc-9c0b-b588bc03f1b5",
        "colab": {
          "base_uri": "https://localhost:8080/",
          "height": 582
        }
      },
      "source": [
        "percentual_graduação = pd.crosstab(dados_graduação[\"nome_unidade\"], dados_graduação[\"sexo\"], normalize=\"index\")\n",
        "percentual_graduação"
      ],
      "execution_count": 34,
      "outputs": [
        {
          "output_type": "execute_result",
          "data": {
            "text/plain": [
              "sexo                                                       F         M\n",
              "nome_unidade                                                          \n",
              "CENTRO DE  ENSINO SUPERIOR DO SERIDÓ                0.448145  0.551855\n",
              "CENTRO DE BIOCIÊNCIAS                               0.554855  0.445145\n",
              "CENTRO DE CIÊNCIAS DA SAÚDE                         0.592891  0.407109\n",
              "CENTRO DE CIÊNCIAS EXATAS E DA TERRA                0.310411  0.689589\n",
              "CENTRO DE CIÊNCIAS HUMANAS, LETRAS E ARTES          0.494570  0.505430\n",
              "CENTRO DE CIÊNCIAS SOCIAIS APLICADAS                0.465626  0.534374\n",
              "CENTRO DE EDUCAÇÃO                                  0.768108  0.231892\n",
              "CENTRO DE TECNOLOGIA                                0.322289  0.677711\n",
              "ESCOLA AGRÍCOLA DE JUNDIAÍ                          0.379310  0.620690\n",
              "ESCOLA DE CIÊNCIAS E TECNOLOGIA                     0.230393  0.769607\n",
              "ESCOLA DE MÚSICA                                    0.257212  0.742788\n",
              "ESCOLA DE SAÚDE                                     0.696498  0.303502\n",
              "ESCOLA MULTICAMPI DE CIÊNCIAS MÉDICAS DO RIO GR...  0.437500  0.562500\n",
              "FACULDADE DE CIÊNCIAS DA SAÚDE DO TRAIRI - FACISA   0.708417  0.291583\n",
              "FACULDADE DE ENGENHARIA, LETRAS E CIÊNCIAS SOCI...  0.579247  0.420753\n",
              "INSTITUTO METROPOLE DIGITAL                         0.104198  0.895802"
            ],
            "text/html": [
              "\n",
              "  <div id=\"df-347f103f-35b0-425b-b68c-8159aaaad02d\">\n",
              "    <div class=\"colab-df-container\">\n",
              "      <div>\n",
              "<style scoped>\n",
              "    .dataframe tbody tr th:only-of-type {\n",
              "        vertical-align: middle;\n",
              "    }\n",
              "\n",
              "    .dataframe tbody tr th {\n",
              "        vertical-align: top;\n",
              "    }\n",
              "\n",
              "    .dataframe thead th {\n",
              "        text-align: right;\n",
              "    }\n",
              "</style>\n",
              "<table border=\"1\" class=\"dataframe\">\n",
              "  <thead>\n",
              "    <tr style=\"text-align: right;\">\n",
              "      <th>sexo</th>\n",
              "      <th>F</th>\n",
              "      <th>M</th>\n",
              "    </tr>\n",
              "    <tr>\n",
              "      <th>nome_unidade</th>\n",
              "      <th></th>\n",
              "      <th></th>\n",
              "    </tr>\n",
              "  </thead>\n",
              "  <tbody>\n",
              "    <tr>\n",
              "      <th>CENTRO DE  ENSINO SUPERIOR DO SERIDÓ</th>\n",
              "      <td>0.448145</td>\n",
              "      <td>0.551855</td>\n",
              "    </tr>\n",
              "    <tr>\n",
              "      <th>CENTRO DE BIOCIÊNCIAS</th>\n",
              "      <td>0.554855</td>\n",
              "      <td>0.445145</td>\n",
              "    </tr>\n",
              "    <tr>\n",
              "      <th>CENTRO DE CIÊNCIAS DA SAÚDE</th>\n",
              "      <td>0.592891</td>\n",
              "      <td>0.407109</td>\n",
              "    </tr>\n",
              "    <tr>\n",
              "      <th>CENTRO DE CIÊNCIAS EXATAS E DA TERRA</th>\n",
              "      <td>0.310411</td>\n",
              "      <td>0.689589</td>\n",
              "    </tr>\n",
              "    <tr>\n",
              "      <th>CENTRO DE CIÊNCIAS HUMANAS, LETRAS E ARTES</th>\n",
              "      <td>0.494570</td>\n",
              "      <td>0.505430</td>\n",
              "    </tr>\n",
              "    <tr>\n",
              "      <th>CENTRO DE CIÊNCIAS SOCIAIS APLICADAS</th>\n",
              "      <td>0.465626</td>\n",
              "      <td>0.534374</td>\n",
              "    </tr>\n",
              "    <tr>\n",
              "      <th>CENTRO DE EDUCAÇÃO</th>\n",
              "      <td>0.768108</td>\n",
              "      <td>0.231892</td>\n",
              "    </tr>\n",
              "    <tr>\n",
              "      <th>CENTRO DE TECNOLOGIA</th>\n",
              "      <td>0.322289</td>\n",
              "      <td>0.677711</td>\n",
              "    </tr>\n",
              "    <tr>\n",
              "      <th>ESCOLA AGRÍCOLA DE JUNDIAÍ</th>\n",
              "      <td>0.379310</td>\n",
              "      <td>0.620690</td>\n",
              "    </tr>\n",
              "    <tr>\n",
              "      <th>ESCOLA DE CIÊNCIAS E TECNOLOGIA</th>\n",
              "      <td>0.230393</td>\n",
              "      <td>0.769607</td>\n",
              "    </tr>\n",
              "    <tr>\n",
              "      <th>ESCOLA DE MÚSICA</th>\n",
              "      <td>0.257212</td>\n",
              "      <td>0.742788</td>\n",
              "    </tr>\n",
              "    <tr>\n",
              "      <th>ESCOLA DE SAÚDE</th>\n",
              "      <td>0.696498</td>\n",
              "      <td>0.303502</td>\n",
              "    </tr>\n",
              "    <tr>\n",
              "      <th>ESCOLA MULTICAMPI DE CIÊNCIAS MÉDICAS DO RIO GRANDE DO NORTE</th>\n",
              "      <td>0.437500</td>\n",
              "      <td>0.562500</td>\n",
              "    </tr>\n",
              "    <tr>\n",
              "      <th>FACULDADE DE CIÊNCIAS DA SAÚDE DO TRAIRI - FACISA</th>\n",
              "      <td>0.708417</td>\n",
              "      <td>0.291583</td>\n",
              "    </tr>\n",
              "    <tr>\n",
              "      <th>FACULDADE DE ENGENHARIA, LETRAS E CIÊNCIAS SOCIAIS DO SERIDÓ - FELCS</th>\n",
              "      <td>0.579247</td>\n",
              "      <td>0.420753</td>\n",
              "    </tr>\n",
              "    <tr>\n",
              "      <th>INSTITUTO METROPOLE DIGITAL</th>\n",
              "      <td>0.104198</td>\n",
              "      <td>0.895802</td>\n",
              "    </tr>\n",
              "  </tbody>\n",
              "</table>\n",
              "</div>\n",
              "      <button class=\"colab-df-convert\" onclick=\"convertToInteractive('df-347f103f-35b0-425b-b68c-8159aaaad02d')\"\n",
              "              title=\"Convert this dataframe to an interactive table.\"\n",
              "              style=\"display:none;\">\n",
              "        \n",
              "  <svg xmlns=\"http://www.w3.org/2000/svg\" height=\"24px\"viewBox=\"0 0 24 24\"\n",
              "       width=\"24px\">\n",
              "    <path d=\"M0 0h24v24H0V0z\" fill=\"none\"/>\n",
              "    <path d=\"M18.56 5.44l.94 2.06.94-2.06 2.06-.94-2.06-.94-.94-2.06-.94 2.06-2.06.94zm-11 1L8.5 8.5l.94-2.06 2.06-.94-2.06-.94L8.5 2.5l-.94 2.06-2.06.94zm10 10l.94 2.06.94-2.06 2.06-.94-2.06-.94-.94-2.06-.94 2.06-2.06.94z\"/><path d=\"M17.41 7.96l-1.37-1.37c-.4-.4-.92-.59-1.43-.59-.52 0-1.04.2-1.43.59L10.3 9.45l-7.72 7.72c-.78.78-.78 2.05 0 2.83L4 21.41c.39.39.9.59 1.41.59.51 0 1.02-.2 1.41-.59l7.78-7.78 2.81-2.81c.8-.78.8-2.07 0-2.86zM5.41 20L4 18.59l7.72-7.72 1.47 1.35L5.41 20z\"/>\n",
              "  </svg>\n",
              "      </button>\n",
              "      \n",
              "  <style>\n",
              "    .colab-df-container {\n",
              "      display:flex;\n",
              "      flex-wrap:wrap;\n",
              "      gap: 12px;\n",
              "    }\n",
              "\n",
              "    .colab-df-convert {\n",
              "      background-color: #E8F0FE;\n",
              "      border: none;\n",
              "      border-radius: 50%;\n",
              "      cursor: pointer;\n",
              "      display: none;\n",
              "      fill: #1967D2;\n",
              "      height: 32px;\n",
              "      padding: 0 0 0 0;\n",
              "      width: 32px;\n",
              "    }\n",
              "\n",
              "    .colab-df-convert:hover {\n",
              "      background-color: #E2EBFA;\n",
              "      box-shadow: 0px 1px 2px rgba(60, 64, 67, 0.3), 0px 1px 3px 1px rgba(60, 64, 67, 0.15);\n",
              "      fill: #174EA6;\n",
              "    }\n",
              "\n",
              "    [theme=dark] .colab-df-convert {\n",
              "      background-color: #3B4455;\n",
              "      fill: #D2E3FC;\n",
              "    }\n",
              "\n",
              "    [theme=dark] .colab-df-convert:hover {\n",
              "      background-color: #434B5C;\n",
              "      box-shadow: 0px 1px 3px 1px rgba(0, 0, 0, 0.15);\n",
              "      filter: drop-shadow(0px 1px 2px rgba(0, 0, 0, 0.3));\n",
              "      fill: #FFFFFF;\n",
              "    }\n",
              "  </style>\n",
              "\n",
              "      <script>\n",
              "        const buttonEl =\n",
              "          document.querySelector('#df-347f103f-35b0-425b-b68c-8159aaaad02d button.colab-df-convert');\n",
              "        buttonEl.style.display =\n",
              "          google.colab.kernel.accessAllowed ? 'block' : 'none';\n",
              "\n",
              "        async function convertToInteractive(key) {\n",
              "          const element = document.querySelector('#df-347f103f-35b0-425b-b68c-8159aaaad02d');\n",
              "          const dataTable =\n",
              "            await google.colab.kernel.invokeFunction('convertToInteractive',\n",
              "                                                     [key], {});\n",
              "          if (!dataTable) return;\n",
              "\n",
              "          const docLinkHtml = 'Like what you see? Visit the ' +\n",
              "            '<a target=\"_blank\" href=https://colab.research.google.com/notebooks/data_table.ipynb>data table notebook</a>'\n",
              "            + ' to learn more about interactive tables.';\n",
              "          element.innerHTML = '';\n",
              "          dataTable['output_type'] = 'display_data';\n",
              "          await google.colab.output.renderOutput(dataTable, element);\n",
              "          const docLink = document.createElement('div');\n",
              "          docLink.innerHTML = docLinkHtml;\n",
              "          element.appendChild(docLink);\n",
              "        }\n",
              "      </script>\n",
              "    </div>\n",
              "  </div>\n",
              "  "
            ]
          },
          "metadata": {},
          "execution_count": 34
        }
      ]
    },
    {
      "cell_type": "markdown",
      "metadata": {
        "id": "nPg7DffchCCl"
      },
      "source": [
        "Vamos isolar apenas os dados referentes ao público feminino.\n",
        "\n",
        "Além disto, vamos ordenar estes valores em ordem crescente usando o método `sort_values()`:"
      ]
    },
    {
      "cell_type": "code",
      "metadata": {
        "id": "LBv-V_UpTSHo",
        "outputId": "6244cd65-c5de-4569-c998-acf84f5ff20f",
        "colab": {
          "base_uri": "https://localhost:8080/"
        }
      },
      "source": [
        "dados_graduação_feminino = percentual_graduação[\"F\"].sort_values()\n",
        "dados_graduação_feminino"
      ],
      "execution_count": 35,
      "outputs": [
        {
          "output_type": "execute_result",
          "data": {
            "text/plain": [
              "nome_unidade\n",
              "INSTITUTO METROPOLE DIGITAL                                             0.104198\n",
              "ESCOLA DE CIÊNCIAS E TECNOLOGIA                                         0.230393\n",
              "ESCOLA DE MÚSICA                                                        0.257212\n",
              "CENTRO DE CIÊNCIAS EXATAS E DA TERRA                                    0.310411\n",
              "CENTRO DE TECNOLOGIA                                                    0.322289\n",
              "ESCOLA AGRÍCOLA DE JUNDIAÍ                                              0.379310\n",
              "ESCOLA MULTICAMPI DE CIÊNCIAS MÉDICAS DO RIO GRANDE DO NORTE            0.437500\n",
              "CENTRO DE  ENSINO SUPERIOR DO SERIDÓ                                    0.448145\n",
              "CENTRO DE CIÊNCIAS SOCIAIS APLICADAS                                    0.465626\n",
              "CENTRO DE CIÊNCIAS HUMANAS, LETRAS E ARTES                              0.494570\n",
              "CENTRO DE BIOCIÊNCIAS                                                   0.554855\n",
              "FACULDADE DE ENGENHARIA, LETRAS E CIÊNCIAS SOCIAIS DO SERIDÓ - FELCS    0.579247\n",
              "CENTRO DE CIÊNCIAS DA SAÚDE                                             0.592891\n",
              "ESCOLA DE SAÚDE                                                         0.696498\n",
              "FACULDADE DE CIÊNCIAS DA SAÚDE DO TRAIRI - FACISA                       0.708417\n",
              "CENTRO DE EDUCAÇÃO                                                      0.768108\n",
              "Name: F, dtype: float64"
            ]
          },
          "metadata": {},
          "execution_count": 35
        }
      ]
    },
    {
      "cell_type": "markdown",
      "metadata": {
        "id": "SaKPq3cmhsRZ"
      },
      "source": [
        "Os valores mínimo e máximo para o percentual de mulheres estão bastante separados.\n",
        "\n",
        "Vamos dar uma olhada em estatísticas descritivas sobre essa série:"
      ]
    },
    {
      "cell_type": "code",
      "metadata": {
        "id": "kHywH7dTTRsO",
        "outputId": "70fe2665-e312-4b17-ac83-f99847f962ed",
        "colab": {
          "base_uri": "https://localhost:8080/"
        }
      },
      "source": [
        "dados_graduação_feminino.describe()"
      ],
      "execution_count": 36,
      "outputs": [
        {
          "output_type": "execute_result",
          "data": {
            "text/plain": [
              "count    16.000000\n",
              "mean      0.459354\n",
              "std       0.186834\n",
              "min       0.104198\n",
              "25%       0.319319\n",
              "50%       0.456886\n",
              "75%       0.582658\n",
              "max       0.768108\n",
              "Name: F, dtype: float64"
            ]
          },
          "metadata": {},
          "execution_count": 36
        }
      ]
    },
    {
      "cell_type": "markdown",
      "metadata": {
        "id": "t1KPqv04iuT1"
      },
      "source": [
        "A média e a mediana encontram-se próximas a 50%, o que é um dado interessante.\n",
        "\n",
        "No entanto, o desvio padrão de 20% é bastante elevado.\n",
        "\n",
        "Vamos ver quais cursos ficaram abaixo do primeiro quartil:"
      ]
    },
    {
      "cell_type": "code",
      "metadata": {
        "id": "REBIe1YHUwHy",
        "outputId": "262e2e82-875e-4fa7-b462-684ac55fb51b",
        "colab": {
          "base_uri": "https://localhost:8080/"
        }
      },
      "source": [
        "dados_graduação_feminino[dados_graduação_feminino <= dados_graduação_feminino.quantile(0.25)]"
      ],
      "execution_count": 37,
      "outputs": [
        {
          "output_type": "execute_result",
          "data": {
            "text/plain": [
              "nome_unidade\n",
              "INSTITUTO METROPOLE DIGITAL             0.104198\n",
              "ESCOLA DE CIÊNCIAS E TECNOLOGIA         0.230393\n",
              "ESCOLA DE MÚSICA                        0.257212\n",
              "CENTRO DE CIÊNCIAS EXATAS E DA TERRA    0.310411\n",
              "Name: F, dtype: float64"
            ]
          },
          "metadata": {},
          "execution_count": 37
        }
      ]
    },
    {
      "cell_type": "markdown",
      "metadata": {
        "id": "Ahw5ZnLtj7hw"
      },
      "source": [
        "Em geral, são cursos relacionados a ciências exatas, engenharia e tecnologias. \n",
        "\n",
        "Essa é uma realidade conhecida, mas surpreende que cursos de música também estejam nesse grupo.\n",
        "\n",
        "E quais ficaram acima do terceiro quartil?"
      ]
    },
    {
      "cell_type": "code",
      "metadata": {
        "id": "m-knzpk9Ypaj",
        "outputId": "b3b4154b-7a65-467f-b025-25972679c045",
        "colab": {
          "base_uri": "https://localhost:8080/"
        }
      },
      "source": [
        "dados_graduação_feminino[dados_graduação_feminino >= dados_graduação_feminino.quantile(0.75)]"
      ],
      "execution_count": 38,
      "outputs": [
        {
          "output_type": "execute_result",
          "data": {
            "text/plain": [
              "nome_unidade\n",
              "CENTRO DE CIÊNCIAS DA SAÚDE                          0.592891\n",
              "ESCOLA DE SAÚDE                                      0.696498\n",
              "FACULDADE DE CIÊNCIAS DA SAÚDE DO TRAIRI - FACISA    0.708417\n",
              "CENTRO DE EDUCAÇÃO                                   0.768108\n",
              "Name: F, dtype: float64"
            ]
          },
          "metadata": {},
          "execution_count": 38
        }
      ]
    },
    {
      "cell_type": "markdown",
      "metadata": {
        "id": "hwKmntRjjqve"
      },
      "source": [
        "Cursos da área de sáude e educação, outra realidade assimilada na universidade.\n",
        "\n",
        "Para termos a visão completa, vamos usar o método `distplot` do seaborn para analisar a distribuição dos dados e compará-la com uma distribuição normal.\n",
        "\n",
        "Para isso, precisaremos do método norm do da biblioteca `scipy`:"
      ]
    },
    {
      "cell_type": "code",
      "metadata": {
        "id": "cPA3XHfuTPhD"
      },
      "source": [
        "from scipy.stats import norm"
      ],
      "execution_count": 39,
      "outputs": []
    },
    {
      "cell_type": "code",
      "metadata": {
        "id": "OlCG4IAxMv0T",
        "outputId": "73b495a7-6dba-4c4e-a1cb-8771e459945f",
        "colab": {
          "base_uri": "https://localhost:8080/",
          "height": 373
        }
      },
      "source": [
        "sns.distplot(dados_graduação_feminino, fit=norm, bins=10)\n",
        "plt.ylabel(\"Quantidade de unidades\")\n",
        "plt.xlabel(\"Percentual\")\n",
        "plt.title(\"Discentes de graduação do sexo feminino por unidade acadêmica\")"
      ],
      "execution_count": 40,
      "outputs": [
        {
          "output_type": "stream",
          "name": "stderr",
          "text": [
            "/usr/local/lib/python3.8/dist-packages/seaborn/distributions.py:2619: FutureWarning: `distplot` is a deprecated function and will be removed in a future version. Please adapt your code to use either `displot` (a figure-level function with similar flexibility) or `histplot` (an axes-level function for histograms).\n",
            "  warnings.warn(msg, FutureWarning)\n"
          ]
        },
        {
          "output_type": "execute_result",
          "data": {
            "text/plain": [
              "Text(0.5, 1.0, 'Discentes de graduação do sexo feminino por unidade acadêmica')"
            ]
          },
          "metadata": {},
          "execution_count": 40
        },
        {
          "output_type": "display_data",
          "data": {
            "text/plain": [
              "<Figure size 432x288 with 1 Axes>"
            ],
            "image/png": "[encoded data removed]"
          },
          "metadata": {}
        }
      ]
    },
    {
      "cell_type": "markdown",
      "metadata": {
        "id": "ZVXiI12Qkyjq"
      },
      "source": [
        "Entendendo o código acima, a opção `fit=norm` gera a distribuição normal de referência para comparação, em preto.\n",
        "\n",
        "Por sua vez, a opção `bins=10` configura quantos intervalos serão considerados pelo histograma.\n",
        "\n",
        "Interpretando o gráfico, chegamos à hipotese de que haja três grandes grupos de cursos, sendo que apenas um representa uma situação de diversidade.\n",
        "\n",
        "Vamos tentar avaliar essa hipótese com um maior refinamento, partindo para uma análise dos cursos da UFRN:"
      ]
    },
    {
      "cell_type": "code",
      "metadata": {
        "id": "WXiFEWoI9vYz",
        "outputId": "2706e105-c156-4a7e-a00d-9ea68efbe812",
        "colab": {
          "base_uri": "https://localhost:8080/"
        }
      },
      "source": [
        "len(dados_graduação[\"nome_curso\"].unique())"
      ],
      "execution_count": 41,
      "outputs": [
        {
          "output_type": "execute_result",
          "data": {
            "text/plain": [
              "81"
            ]
          },
          "metadata": {},
          "execution_count": 41
        }
      ]
    },
    {
      "cell_type": "markdown",
      "metadata": {
        "id": "apUaUPq9nHbW"
      },
      "source": [
        "Aqui cabe uma ressalva: os datasets apontam 82 nomes de cursos diferentes, mas existem mais de 120 cursos de graduação na UFRN.\n",
        "\n",
        "O motivo para o número menor é que cursos de licenciatura e bacharelado não são distinguidos pelo nome nestes datasets.\n",
        "\n",
        "Continuando nossa análise:"
      ]
    },
    {
      "cell_type": "code",
      "metadata": {
        "id": "UrLx3hUz9vG_",
        "outputId": "f99576d3-7f9e-43f7-c951-d7e058d517d6",
        "colab": {
          "base_uri": "https://localhost:8080/",
          "height": 455
        }
      },
      "source": [
        "percentual_cursos = pd.crosstab(dados_graduação[\"nome_curso\"], dados_graduação[\"sexo\"], normalize=\"index\")\n",
        "percentual_cursos"
      ],
      "execution_count": 42,
      "outputs": [
        {
          "output_type": "execute_result",
          "data": {
            "text/plain": [
              "sexo                                          F         M\n",
              "nome_curso                                               \n",
              "ADMINISTRAÇÃO                          0.420698  0.579302\n",
              "ADMINISTRAÇÃO PÚBLICA                  0.405000  0.595000\n",
              "ANÁLISE E DESENVOLVIMENTO DE SISTEMAS  0.196970  0.803030\n",
              "ARQUITETURA E URBANISMO                0.680451  0.319549\n",
              "ARTES VISUAIS                          0.585551  0.414449\n",
              "...                                         ...       ...\n",
              "SISTEMAS DE INFORMAÇÃO                 0.163194  0.836806\n",
              "TEATRO                                 0.452586  0.547414\n",
              "TECNOLOGIA DA INFORMAÇÃO               0.104198  0.895802\n",
              "TURISMO                                0.571429  0.428571\n",
              "ZOOTECNIA                              0.563707  0.436293\n",
              "\n",
              "[81 rows x 2 columns]"
            ],
            "text/html": [
              "\n",
              "  <div id=\"df-437a4c33-a218-4933-bd66-ba5e334ae146\">\n",
              "    <div class=\"colab-df-container\">\n",
              "      <div>\n",
              "<style scoped>\n",
              "    .dataframe tbody tr th:only-of-type {\n",
              "        vertical-align: middle;\n",
              "    }\n",
              "\n",
              "    .dataframe tbody tr th {\n",
              "        vertical-align: top;\n",
              "    }\n",
              "\n",
              "    .dataframe thead th {\n",
              "        text-align: right;\n",
              "    }\n",
              "</style>\n",
              "<table border=\"1\" class=\"dataframe\">\n",
              "  <thead>\n",
              "    <tr style=\"text-align: right;\">\n",
              "      <th>sexo</th>\n",
              "      <th>F</th>\n",
              "      <th>M</th>\n",
              "    </tr>\n",
              "    <tr>\n",
              "      <th>nome_curso</th>\n",
              "      <th></th>\n",
              "      <th></th>\n",
              "    </tr>\n",
              "  </thead>\n",
              "  <tbody>\n",
              "    <tr>\n",
              "      <th>ADMINISTRAÇÃO</th>\n",
              "      <td>0.420698</td>\n",
              "      <td>0.579302</td>\n",
              "    </tr>\n",
              "    <tr>\n",
              "      <th>ADMINISTRAÇÃO PÚBLICA</th>\n",
              "      <td>0.405000</td>\n",
              "      <td>0.595000</td>\n",
              "    </tr>\n",
              "    <tr>\n",
              "      <th>ANÁLISE E DESENVOLVIMENTO DE SISTEMAS</th>\n",
              "      <td>0.196970</td>\n",
              "      <td>0.803030</td>\n",
              "    </tr>\n",
              "    <tr>\n",
              "      <th>ARQUITETURA E URBANISMO</th>\n",
              "      <td>0.680451</td>\n",
              "      <td>0.319549</td>\n",
              "    </tr>\n",
              "    <tr>\n",
              "      <th>ARTES VISUAIS</th>\n",
              "      <td>0.585551</td>\n",
              "      <td>0.414449</td>\n",
              "    </tr>\n",
              "    <tr>\n",
              "      <th>...</th>\n",
              "      <td>...</td>\n",
              "      <td>...</td>\n",
              "    </tr>\n",
              "    <tr>\n",
              "      <th>SISTEMAS DE INFORMAÇÃO</th>\n",
              "      <td>0.163194</td>\n",
              "      <td>0.836806</td>\n",
              "    </tr>\n",
              "    <tr>\n",
              "      <th>TEATRO</th>\n",
              "      <td>0.452586</td>\n",
              "      <td>0.547414</td>\n",
              "    </tr>\n",
              "    <tr>\n",
              "      <th>TECNOLOGIA DA INFORMAÇÃO</th>\n",
              "      <td>0.104198</td>\n",
              "      <td>0.895802</td>\n",
              "    </tr>\n",
              "    <tr>\n",
              "      <th>TURISMO</th>\n",
              "      <td>0.571429</td>\n",
              "      <td>0.428571</td>\n",
              "    </tr>\n",
              "    <tr>\n",
              "      <th>ZOOTECNIA</th>\n",
              "      <td>0.563707</td>\n",
              "      <td>0.436293</td>\n",
              "    </tr>\n",
              "  </tbody>\n",
              "</table>\n",
              "<p>81 rows × 2 columns</p>\n",
              "</div>\n",
              "      <button class=\"colab-df-convert\" onclick=\"convertToInteractive('df-437a4c33-a218-4933-bd66-ba5e334ae146')\"\n",
              "              title=\"Convert this dataframe to an interactive table.\"\n",
              "              style=\"display:none;\">\n",
              "        \n",
              "  <svg xmlns=\"http://www.w3.org/2000/svg\" height=\"24px\"viewBox=\"0 0 24 24\"\n",
              "       width=\"24px\">\n",
              "    <path d=\"M0 0h24v24H0V0z\" fill=\"none\"/>\n",
              "    <path d=\"M18.56 5.44l.94 2.06.94-2.06 2.06-.94-2.06-.94-.94-2.06-.94 2.06-2.06.94zm-11 1L8.5 8.5l.94-2.06 2.06-.94-2.06-.94L8.5 2.5l-.94 2.06-2.06.94zm10 10l.94 2.06.94-2.06 2.06-.94-2.06-.94-.94-2.06-.94 2.06-2.06.94z\"/><path d=\"M17.41 7.96l-1.37-1.37c-.4-.4-.92-.59-1.43-.59-.52 0-1.04.2-1.43.59L10.3 9.45l-7.72 7.72c-.78.78-.78 2.05 0 2.83L4 21.41c.39.39.9.59 1.41.59.51 0 1.02-.2 1.41-.59l7.78-7.78 2.81-2.81c.8-.78.8-2.07 0-2.86zM5.41 20L4 18.59l7.72-7.72 1.47 1.35L5.41 20z\"/>\n",
              "  </svg>\n",
              "      </button>\n",
              "      \n",
              "  <style>\n",
              "    .colab-df-container {\n",
              "      display:flex;\n",
              "      flex-wrap:wrap;\n",
              "      gap: 12px;\n",
              "    }\n",
              "\n",
              "    .colab-df-convert {\n",
              "      background-color: #E8F0FE;\n",
              "      border: none;\n",
              "      border-radius: 50%;\n",
              "      cursor: pointer;\n",
              "      display: none;\n",
              "      fill: #1967D2;\n",
              "      height: 32px;\n",
              "      padding: 0 0 0 0;\n",
              "      width: 32px;\n",
              "    }\n",
              "\n",
              "    .colab-df-convert:hover {\n",
              "      background-color: #E2EBFA;\n",
              "      box-shadow: 0px 1px 2px rgba(60, 64, 67, 0.3), 0px 1px 3px 1px rgba(60, 64, 67, 0.15);\n",
              "      fill: #174EA6;\n",
              "    }\n",
              "\n",
              "    [theme=dark] .colab-df-convert {\n",
              "      background-color: #3B4455;\n",
              "      fill: #D2E3FC;\n",
              "    }\n",
              "\n",
              "    [theme=dark] .colab-df-convert:hover {\n",
              "      background-color: #434B5C;\n",
              "      box-shadow: 0px 1px 3px 1px rgba(0, 0, 0, 0.15);\n",
              "      filter: drop-shadow(0px 1px 2px rgba(0, 0, 0, 0.3));\n",
              "      fill: #FFFFFF;\n",
              "    }\n",
              "  </style>\n",
              "\n",
              "      <script>\n",
              "        const buttonEl =\n",
              "          document.querySelector('#df-437a4c33-a218-4933-bd66-ba5e334ae146 button.colab-df-convert');\n",
              "        buttonEl.style.display =\n",
              "          google.colab.kernel.accessAllowed ? 'block' : 'none';\n",
              "\n",
              "        async function convertToInteractive(key) {\n",
              "          const element = document.querySelector('#df-437a4c33-a218-4933-bd66-ba5e334ae146');\n",
              "          const dataTable =\n",
              "            await google.colab.kernel.invokeFunction('convertToInteractive',\n",
              "                                                     [key], {});\n",
              "          if (!dataTable) return;\n",
              "\n",
              "          const docLinkHtml = 'Like what you see? Visit the ' +\n",
              "            '<a target=\"_blank\" href=https://colab.research.google.com/notebooks/data_table.ipynb>data table notebook</a>'\n",
              "            + ' to learn more about interactive tables.';\n",
              "          element.innerHTML = '';\n",
              "          dataTable['output_type'] = 'display_data';\n",
              "          await google.colab.output.renderOutput(dataTable, element);\n",
              "          const docLink = document.createElement('div');\n",
              "          docLink.innerHTML = docLinkHtml;\n",
              "          element.appendChild(docLink);\n",
              "        }\n",
              "      </script>\n",
              "    </div>\n",
              "  </div>\n",
              "  "
            ]
          },
          "metadata": {},
          "execution_count": 42
        }
      ]
    },
    {
      "cell_type": "markdown",
      "metadata": {
        "id": "4U-jefbZoWOz"
      },
      "source": [
        "Selecionando apenas os dados para o público feminino e os ordenando:"
      ]
    },
    {
      "cell_type": "code",
      "metadata": {
        "id": "auUCD7Tb9ufm",
        "outputId": "ea8a2b4e-ea61-46ce-da2f-7d2cf510b70f",
        "colab": {
          "base_uri": "https://localhost:8080/"
        }
      },
      "source": [
        "dados_cursos_feminino = percentual_cursos[\"F\"].sort_values()\n",
        "dados_cursos_feminino"
      ],
      "execution_count": 43,
      "outputs": [
        {
          "output_type": "execute_result",
          "data": {
            "text/plain": [
              "nome_curso\n",
              "TECNOLOGIA DA INFORMAÇÃO          0.104198\n",
              "ENGENHARIA DE TELECOMUNICAÇÕES    0.117647\n",
              "ENGENHARIA MECATRÔNICA            0.139535\n",
              "ENGENHARIA DE SOFTWARE            0.155844\n",
              "ENGENHARIA DE COMPUTAÇÃO          0.159664\n",
              "                                    ...   \n",
              "PEDAGOGIA                         0.779742\n",
              "NUTRIÇÃO                          0.790219\n",
              "FONOAUDIOLOGIA                    0.859922\n",
              "LETRAS -                          0.875000\n",
              "SERVIÇO SOCIAL                    0.876047\n",
              "Name: F, Length: 81, dtype: float64"
            ]
          },
          "metadata": {},
          "execution_count": 43
        }
      ]
    },
    {
      "cell_type": "markdown",
      "metadata": {
        "id": "ekUnyBcgoqY8"
      },
      "source": [
        "Novamente, cursos de engenharias, tecnologia, saúde e educação aparecem como os menos diversos.\n",
        "\n",
        "Vamos analisar algumas estatísticas descritivas dessa série:"
      ]
    },
    {
      "cell_type": "code",
      "metadata": {
        "id": "UvqrjwIPam62",
        "outputId": "9e0f80cc-d294-4c8e-810d-09bda472e514",
        "colab": {
          "base_uri": "https://localhost:8080/"
        }
      },
      "source": [
        "dados_cursos_feminino.describe()"
      ],
      "execution_count": 44,
      "outputs": [
        {
          "output_type": "execute_result",
          "data": {
            "text/plain": [
              "count    81.000000\n",
              "mean      0.461963\n",
              "std       0.194093\n",
              "min       0.104198\n",
              "25%       0.321608\n",
              "50%       0.452586\n",
              "75%       0.604478\n",
              "max       0.876047\n",
              "Name: F, dtype: float64"
            ]
          },
          "metadata": {},
          "execution_count": 44
        }
      ]
    },
    {
      "cell_type": "markdown",
      "metadata": {
        "id": "vw7KboWEo-R0"
      },
      "source": [
        "Mais uma vez, a média e o desvio padrão estão próximas a 50% e o desvio padrão na casa de 20%.\n",
        "\n",
        "Vamos ver quais os cursos abaixo do primeiro quartil:"
      ]
    },
    {
      "cell_type": "code",
      "metadata": {
        "id": "b_2b1ygNo6fo",
        "outputId": "23b18baf-57b2-4b00-f62c-d5ba667adb25",
        "colab": {
          "base_uri": "https://localhost:8080/"
        }
      },
      "source": [
        "dados_cursos_feminino[dados_cursos_feminino <= dados_cursos_feminino.quantile(0.25)]"
      ],
      "execution_count": 45,
      "outputs": [
        {
          "output_type": "execute_result",
          "data": {
            "text/plain": [
              "nome_curso\n",
              "TECNOLOGIA DA INFORMAÇÃO                 0.104198\n",
              "ENGENHARIA DE TELECOMUNICAÇÕES           0.117647\n",
              "ENGENHARIA MECATRÔNICA                   0.139535\n",
              "ENGENHARIA DE SOFTWARE                   0.155844\n",
              "ENGENHARIA DE COMPUTAÇÃO                 0.159664\n",
              "SISTEMAS DE INFORMAÇÃO                   0.163194\n",
              "ENGENHARIA ELÉTRICA                      0.164407\n",
              "ENGENHARIA MECÂNICA                      0.173913\n",
              "CIÊNCIA DA COMPUTAÇÃO                    0.178571\n",
              "FÍSICA                                   0.189614\n",
              "ANÁLISE E DESENVOLVIMENTO DE SISTEMAS    0.196970\n",
              "CIÊNCIAS ECONÔMICAS                      0.227929\n",
              "CIÊNCIAS E TECNOLOGIA                    0.230393\n",
              "MATEMÁTICA                               0.255869\n",
              "MÚSICA                                   0.257212\n",
              "ENGENHARIA CIVIL                         0.275660\n",
              "EDUCAÇÃO FÍSICA                          0.308642\n",
              "ENGENHARIA DE PRODUÇÃO                   0.311419\n",
              "ENGENHARIA AGRONÔMICA                    0.316206\n",
              "CIÊNCIAS ATUARIAIS                       0.316406\n",
              "GEOLOGIA                                 0.321608\n",
              "Name: F, dtype: float64"
            ]
          },
          "metadata": {},
          "execution_count": 45
        }
      ]
    },
    {
      "cell_type": "markdown",
      "metadata": {
        "id": "Vv5WcTLOpXpL"
      },
      "source": [
        "De fato, o único novo insight que obtemos é a presença do curso de educação física neste grupo, uma exceção entre os cursos de saúde.\n",
        "\n",
        "Vamos ver agora os cursos acima do terceiro quartil:"
      ]
    },
    {
      "cell_type": "code",
      "metadata": {
        "id": "ClhS_cEEpWzu",
        "outputId": "4fab880d-c928-43a5-cd66-d5aa04ccd54f",
        "colab": {
          "base_uri": "https://localhost:8080/"
        }
      },
      "source": [
        "dados_cursos_feminino[dados_cursos_feminino >= dados_cursos_feminino.quantile(0.75)]"
      ],
      "execution_count": 46,
      "outputs": [
        {
          "output_type": "execute_result",
          "data": {
            "text/plain": [
              "nome_curso\n",
              "LETRAS                                    0.604478\n",
              "BIBLIOTECONOMIA                           0.612245\n",
              "DANÇA                                     0.612745\n",
              "ODONTOLOGIA                               0.617375\n",
              "LETRAS - LÍNGUA PORTUGUESA                0.626357\n",
              "LETRAS- LÍNGUA ESPANHOLA E LITERATURAS    0.628000\n",
              "BIOMEDICINA                               0.645740\n",
              "FISIOTERAPIA                              0.661017\n",
              "PSICOLOGIA                                0.679558\n",
              "SAÚDE COLETIVA                            0.680000\n",
              "ARQUITETURA E URBANISMO                   0.680451\n",
              "GESTÃO HOSPITALAR                         0.696498\n",
              "LETRAS - LÍNGUA ESPANHOLA                 0.702020\n",
              "LETRAS - PORTUGUÊS E INGLÊS               0.720000\n",
              "ENFERMAGEM                                0.755102\n",
              "LETRAS - LÍNGUA PORTUGUESA E LIBRAS       0.759615\n",
              "PEDAGOGIA                                 0.779742\n",
              "NUTRIÇÃO                                  0.790219\n",
              "FONOAUDIOLOGIA                            0.859922\n",
              "LETRAS -                                  0.875000\n",
              "SERVIÇO SOCIAL                            0.876047\n",
              "Name: F, dtype: float64"
            ]
          },
          "metadata": {},
          "execution_count": 46
        }
      ]
    },
    {
      "cell_type": "markdown",
      "metadata": {
        "id": "0f3dekAhp8vw"
      },
      "source": [
        "Aqui vemos mais uma exceção, com arquitetura e urbanismo neste grupo.\n",
        "\n",
        "Além disso, chama a atenção a presença de cursos de Letra, considerando que sua unidade responsável apresenta proporção quase igualitária entre discentes homens e mulheres. \n",
        "\n",
        "Para finalizar, vamos usar o `distplot` e comparamos a distribuição dos dados com uma distribuição normal:"
      ]
    },
    {
      "cell_type": "code",
      "metadata": {
        "id": "iq_8XSoQcrT-",
        "outputId": "69f0007a-e447-4bea-99b0-873d8347e3c9",
        "colab": {
          "base_uri": "https://localhost:8080/",
          "height": 373
        }
      },
      "source": [
        "sns.distplot(dados_cursos_feminino, fit=norm, bins=10)\n",
        "plt.ylabel(\"Quantidade de cursos\")\n",
        "plt.xlabel(\"Percentual\")\n",
        "plt.title(\"Discentes de graduação do sexo feminino por curso\")"
      ],
      "execution_count": 47,
      "outputs": [
        {
          "output_type": "stream",
          "name": "stderr",
          "text": [
            "/usr/local/lib/python3.8/dist-packages/seaborn/distributions.py:2619: FutureWarning: `distplot` is a deprecated function and will be removed in a future version. Please adapt your code to use either `displot` (a figure-level function with similar flexibility) or `histplot` (an axes-level function for histograms).\n",
            "  warnings.warn(msg, FutureWarning)\n"
          ]
        },
        {
          "output_type": "execute_result",
          "data": {
            "text/plain": [
              "Text(0.5, 1.0, 'Discentes de graduação do sexo feminino por curso')"
            ]
          },
          "metadata": {},
          "execution_count": 47
        },
        {
          "output_type": "display_data",
          "data": {
            "text/plain": [
              "<Figure size 432x288 with 1 Axes>"
            ],
            "image/png": "[encoded data removed]"
          },
          "metadata": {}
        }
      ]
    },
    {
      "cell_type": "markdown",
      "metadata": {
        "id": "0UH1S5_RqpyU"
      },
      "source": [
        "Neste caso, notamos uma distribuição bem mais aproximada da normal.\n",
        "\n",
        "No entanto, há um pico considerável na extremidade inferior do eixo x.\n",
        "\n",
        "No geral, podemos dizer que a diversidade na universidade está em uma situação melhor do que a diversidade nos cursos da universidade.\n",
        "\n",
        "Em outras palavras, diferentes perfis encontrarão cursos para lhes atender, mas poucos cursos atenderão os diferentes perfis."
      ]
    }
  ]
}